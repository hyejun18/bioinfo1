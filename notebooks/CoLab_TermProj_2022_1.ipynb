{
 "cells": [
  {
   "cell_type": "markdown",
   "metadata": {
    "id": "_SmTogjeMD47"
   },
   "source": [
    "# 생물정보학 및 실습 1 - Term Project용 환경 셋업\n",
    "\n",
    "```\n",
    "생물정보학 및 실습 1\n",
    "서울대학교 협동과정 생물정보학전공 2022년 1학기\n",
    "\n",
    "이 노트북은 Creative Commons BY-SA 조건으로 재사용 가능합니다.\n",
    "장혜식 <hyeshik@snu.ac.kr>, 서울대학교 생명과학부\n",
    "```\n",
    "\n",
    "이 노트북은 Google Colab을 이용해서 Term Project를 할 수 있도록 환경을 준비해 줍니다. 터미널 사용이 원활하지 않은 상태이고, 데이터를 오랫동안 보관하기 어렵기 때문에 되도록 개인용 컴퓨터에서 [Anaconda](https://www.anaconda.com/)나 [JupyterLab](https://jupyterlab.readthedocs.io/en/stable/) 등을 설치하고 사용하시는 것이 편하지만, 개인용 컴퓨터 사양이 부족한 경우에는 Google CoLab을 사용할 수도 있습니다. 개인용 컴퓨터를 쓸 때는 Windows에서는 [WSL2](https://docs.microsoft.com/en-us/windows/wsl/install-win10)를 쓰시면 리눅스 커맨드라인 환경을 쓸 수 있습니다. Google Colab은 창을 닫은 후 90분 후, 또는 창을 처음 열고 12시간 후에 환경을 닫아버리기 때문에 매번 실습할 때마다 새로 셋업이 필요합니다. `Runtime->Run All`을 실행해서 전체를 한 번 실행하시면 준비됩니다. 모든 것이 잘 안 되고 뭔가 꼬인 느낌이 강하게 들 때는 `Runtime->Factory reset runtime`을 누르고 새로 시작하시면 될 수도 있습니다.\n"
   ]
  },
  {
   "cell_type": "markdown",
   "metadata": {
    "id": "J2LqGiP_N26s"
   },
   "source": [
    "## 시퀀싱 데이터 다운로드\n",
    "이제 실습 수업에서 필요한 시퀀싱 데이터를 다운로드 받아서 설치합시다. 드라이브 공간만 충분하면 데이터는 계속 저장돼 있기 때문에 학기 전체를 통해서 딱 한 번만 하시면 됩니다. Colab에서는 작업용 데이터를 Google Drive 폴더 아래의 `binfo-datapack1`에 저장합니다. 실습용 데이터는 `/content/drive/MyDrive/binfo1-datapack1`에 풀리게 됩니다.\n",
    "\n",
    "### (Option 1) Google CoLab에서 접속한 경우\n",
    "1. [Google Drive 공유폴더](https://drive.google.com/drive/folders/1Y190lbO42VEzjjQkgoxNf_EcZJlHyZa1?usp=sharing)에 접속합니다.\n",
    "1. 중간 제목줄의 \"binfo1-datapack1 ▾\"에서 ▾을 누릅니다.\n",
    "1. Add shortcut to Drive를 누릅니다.\n",
    "1. My Drive를 선택해서 ADD SHORTCUT 버튼을 누릅니다.\n",
    "1. 다음 cell을 실행해서 링크가 제대로 들어왔는지 확인합니다. (바로 확인되지 않으면 3–5분 정도 기다렸다가 하면 됩니다.)\n",
    "1. 제대로 확인되면 다음으로 넘어갑니다.\n"
   ]
  },
  {
   "cell_type": "code",
   "execution_count": 1,
   "metadata": {
    "id": "D24wKYriG8tI"
   },
   "outputs": [],
   "source": [
    "# !ls -al ../data/binfo1-datapack1/"
   ]
  },
  {
   "cell_type": "markdown",
   "metadata": {
    "id": "OZ0KkKrmG-M4"
   },
   "source": [
    "### (Option 2) CoLab외의 다른 환경에서 접속한 경우\n",
    "본인 컴퓨터나 연구실 워크스테이션 등에서 작업하는 경우에는 다음 명령어로 다운로드 받으시면 됩니다. 첫 번째에는 wget이 접속오류를 내는 경우가 많으니, 접속에러가 발생하면 다시 한 번 실행해 보세요. `../../data` 부분은 원하는 저장 경로로 바꿔서 지정하시면 됩니다."
   ]
  },
  {
   "cell_type": "code",
   "execution_count": 2,
   "metadata": {
    "id": "kIN484e7NSxR"
   },
   "outputs": [],
   "source": [
    "# !wget -O - --no-check-certificate https://hyeshik.qbio.io/binfo/binfo1-datapack1.tar | tar -C ../data -xf -"
   ]
  },
  {
   "cell_type": "markdown",
   "metadata": {
    "id": "kiQ5y4dTD27M"
   },
   "source": [
    "그리고, GENCODE Annotation 데이터도 미리 받아서 저장해 둡니다. 에러가 나면 다시 한 번 실행해 봅니다."
   ]
  },
  {
   "cell_type": "code",
   "execution_count": 3,
   "metadata": {
    "id": "Efdd3x8hDMh4"
   },
   "outputs": [],
   "source": [
    "# !wget --no-check-certificate -O ../data/gencode.gtf.gz http://ftp.ebi.ac.uk/pub/databases/gencode/Gencode_mouse/release_M27/gencode.vM27.annotation.gtf.gz"
   ]
  },
  {
   "cell_type": "markdown",
   "metadata": {
    "id": "O3rM9ds6EMhB"
   },
   "source": [
    "다루기 쉽도록 Annotation 압축을 풉니다."
   ]
  },
  {
   "cell_type": "code",
   "execution_count": 4,
   "metadata": {
    "id": "KNyuSM6PEQvX"
   },
   "outputs": [],
   "source": [
    "# !gunzip ../data/gencode.gtf.gz"
   ]
  },
  {
   "cell_type": "markdown",
   "metadata": {
    "id": "lnlM-S70C-tY"
   },
   "source": [
    "### 파일 체크섬 확인\n",
    "\n",
    "받은 데이터의 MD5 체크섬을 확인합니다. 한참 걸립니다. 각 파일들의 원래 체크섬은 다음과 같습니다. 한 번 비교해 보세요.\n",
    "\n",
    "```\n",
    "140aaf30bcb9276cc716f8699f04ddd6  CLIP-35L33G.bam\n",
    "f1b3336ed7e2f97d562dcc71641251bd  CLIP-35L33G.bam.bai\n",
    "328883a73d507eafbf5b60bd6b906201  RNA-control.bam\n",
    "02073818e2f398a73c3b76e5169de1ca  RNA-control.bam.bai\n",
    "b09550d09d6c2a4ce27f0226f426fdb1  RNA-siLin28a.bam\n",
    "fef112c727244060ea62d3f2564a07f6  RNA-siLin28a.bam.bai\n",
    "28bbd0c47d725669340c784f1b772c01  RNA-siLuc.bam\n",
    "43590fdc4d81905c0432e0d1cb8cfd5b  RNA-siLuc.bam.bai\n",
    "5c08a9297307bc83259e658c4474f0cc  RPF-siLin28a.bam\n",
    "a1bb3e29be412dfd7fd8d16b1b1acc4c  RPF-siLin28a.bam.bai\n",
    "f2eebf50943024d0116c9cd3e744c707  RPF-siLuc.bam\n",
    "dc24f69e8f571fc8be30f28ce5b84fcd  RPF-siLuc.bam.bai\n",
    "```"
   ]
  },
  {
   "cell_type": "code",
   "execution_count": 6,
   "metadata": {
    "id": "g8lC_YJRBCPf"
   },
   "outputs": [
    {
     "name": "stdout",
     "output_type": "stream",
     "text": [
      "140aaf30bcb9276cc716f8699f04ddd6  ../data/binfo1-datapack1/CLIP-35L33G.bam\n",
      "f1b3336ed7e2f97d562dcc71641251bd  ../data/binfo1-datapack1/CLIP-35L33G.bam.bai\n",
      "328883a73d507eafbf5b60bd6b906201  ../data/binfo1-datapack1/RNA-control.bam\n",
      "02073818e2f398a73c3b76e5169de1ca  ../data/binfo1-datapack1/RNA-control.bam.bai\n",
      "b09550d09d6c2a4ce27f0226f426fdb1  ../data/binfo1-datapack1/RNA-siLin28a.bam\n",
      "fef112c727244060ea62d3f2564a07f6  ../data/binfo1-datapack1/RNA-siLin28a.bam.bai\n",
      "28bbd0c47d725669340c784f1b772c01  ../data/binfo1-datapack1/RNA-siLuc.bam\n",
      "43590fdc4d81905c0432e0d1cb8cfd5b  ../data/binfo1-datapack1/RNA-siLuc.bam.bai\n",
      "5c08a9297307bc83259e658c4474f0cc  ../data/binfo1-datapack1/RPF-siLin28a.bam\n",
      "a1bb3e29be412dfd7fd8d16b1b1acc4c  ../data/binfo1-datapack1/RPF-siLin28a.bam.bai\n",
      "f2eebf50943024d0116c9cd3e744c707  ../data/binfo1-datapack1/RPF-siLuc.bam\n",
      "dc24f69e8f571fc8be30f28ce5b84fcd  ../data/binfo1-datapack1/RPF-siLuc.bam.bai\n"
     ]
    }
   ],
   "source": [
    "!md5sum ../data/binfo1-datapack1/*"
   ]
  },
  {
   "cell_type": "code",
   "execution_count": 7,
   "metadata": {
    "id": "PVXzIs5FE3Q4"
   },
   "outputs": [
    {
     "name": "stdout",
     "output_type": "stream",
     "text": [
      "total 6274100\r\n",
      "drwxr-xr-x 2 hyejun18 guests       4096 May  6 00:06 .\r\n",
      "drwxr-xr-x 3 hyejun18 guests         61 May  6 00:06 ..\r\n",
      "-rw-r--r-- 1 hyejun18 guests 1370036258 May  6  2021 CLIP-35L33G.bam\r\n",
      "-rw-r--r-- 1 hyejun18 guests    3118336 May  6  2021 CLIP-35L33G.bam.bai\r\n",
      "-rw-r--r-- 1 hyejun18 guests 1003658801 May  6  2021 RNA-control.bam\r\n",
      "-rw-r--r-- 1 hyejun18 guests    2276104 May  6  2021 RNA-control.bam.bai\r\n",
      "-rw-r--r-- 1 hyejun18 guests 1260991122 May  6  2021 RNA-siLin28a.bam\r\n",
      "-rw-r--r-- 1 hyejun18 guests    2710744 May  6  2021 RNA-siLin28a.bam.bai\r\n",
      "-rw-r--r-- 1 hyejun18 guests  981684502 May  6  2021 RNA-siLuc.bam\r\n",
      "-rw-r--r-- 1 hyejun18 guests    2606104 May  6  2021 RNA-siLuc.bam.bai\r\n",
      "-rw-r--r-- 1 hyejun18 guests  737352902 May  6  2021 RPF-siLin28a.bam\r\n",
      "-rw-r--r-- 1 hyejun18 guests    2482768 May  6  2021 RPF-siLin28a.bam.bai\r\n",
      "-rw-r--r-- 1 hyejun18 guests 1055123479 May  6  2021 RPF-siLuc.bam\r\n",
      "-rw-r--r-- 1 hyejun18 guests    2605912 May  6  2021 RPF-siLuc.bam.bai\r\n"
     ]
    }
   ],
   "source": [
    "!ls -al ../data/binfo1-datapack1/"
   ]
  },
  {
   "cell_type": "markdown",
   "metadata": {
    "id": "Oe_54MZrEi4y"
   },
   "source": [
    "## Transcript count table 마련하기\n",
    "\n",
    "제공된 alignment와 annotation 파일들을 이용해서 transcript별 read count를 구해봅니다. 실제 연구에서는 multi-mapping 등을 고려해야 하지만, 여기서는 단순화해서 모두 무시합니다. 데이터가 있는 곳으로 이동해서 작업합시다."
   ]
  },
  {
   "cell_type": "code",
   "execution_count": 11,
   "metadata": {},
   "outputs": [],
   "source": [
    "FEATURE_COUNTS = '/casa/hyejun18/anaconda3/envs/binfo1/bin/featureCounts'"
   ]
  },
  {
   "cell_type": "code",
   "execution_count": 18,
   "metadata": {},
   "outputs": [
    {
     "name": "stdout",
     "output_type": "stream",
     "text": [
      "/casa/hyejun18/prj/bioinfo1/prj/data/binfo1-datapack1\n"
     ]
    }
   ],
   "source": [
    "%cd ../data/binfo1-datapack1/"
   ]
  },
  {
   "cell_type": "code",
   "execution_count": 19,
   "metadata": {
    "id": "5OrnDxegFAip"
   },
   "outputs": [
    {
     "name": "stdout",
     "output_type": "stream",
     "text": [
      "\n",
      "       \u001b[44;37m ========== \u001b[0m\u001b[36m    _____ _    _ ____  _____  ______          _____  \n",
      "       \u001b[44;37m =====      \u001b[0m\u001b[36m   / ____| |  | |  _ \\|  __ \\|  ____|   /\\   |  __ \\ \n",
      "       \u001b[44;37m   =====    \u001b[0m\u001b[36m  | (___ | |  | | |_) | |__) | |__     /  \\  | |  | |\n",
      "       \u001b[44;37m     ====   \u001b[0m\u001b[36m   \\___ \\| |  | |  _ <|  _  /|  __|   / /\\ \\ | |  | |\n",
      "       \u001b[44;37m       ==== \u001b[0m\u001b[36m   ____) | |__| | |_) | | \\ \\| |____ / ____ \\| |__| |\n",
      "       \u001b[44;37m ========== \u001b[0m\u001b[36m  |_____/ \\____/|____/|_|  \\_\\______/_/    \\_\\_____/\u001b[0m\n",
      "\t  v2.0.1\n",
      "\n",
      "//==========================\u001b[36m featureCounts setting \u001b[0m===========================\\\\\n",
      "||  \u001b[0m                                                                          ||\n",
      "||             Input files : \u001b[36m6 BAM files  \u001b[0m \u001b[0m                                   ||\n",
      "||                           \u001b[32mo\u001b[36m CLIP-35L33G.bam\u001b[0m \u001b[0m                               ||\n",
      "||                           \u001b[32mo\u001b[36m RNA-control.bam\u001b[0m \u001b[0m                               ||\n",
      "||                           \u001b[32mo\u001b[36m RNA-siLin28a.bam\u001b[0m \u001b[0m                              ||\n",
      "||                           \u001b[32mo\u001b[36m RNA-siLuc.bam\u001b[0m \u001b[0m                                 ||\n",
      "||                           \u001b[32mo\u001b[36m RPF-siLin28a.bam\u001b[0m \u001b[0m                              ||\n",
      "||                           \u001b[32mo\u001b[36m RPF-siLuc.bam\u001b[0m \u001b[0m                                 ||\n",
      "||  \u001b[0m                                                                          ||\n",
      "||             Output file : \u001b[36mread-counts.txt\u001b[0m \u001b[0m                                 ||\n",
      "||                 Summary : \u001b[36mread-counts.txt.summary\u001b[0m \u001b[0m                         ||\n",
      "||              Annotation : \u001b[36mgencode.gtf (GTF)\u001b[0m \u001b[0m                               ||\n",
      "||      Dir for temp files : \u001b[36m../../stats\u001b[0m \u001b[0m                                     ||\n",
      "||  \u001b[0m                                                                          ||\n",
      "||                 Threads : \u001b[36m1\u001b[0m \u001b[0m                                               ||\n",
      "||                   Level : \u001b[36mmeta-feature level\u001b[0m \u001b[0m                              ||\n",
      "||              Paired-end : \u001b[36mno\u001b[0m \u001b[0m                                              ||\n",
      "||      Multimapping reads : \u001b[36mnot counted\u001b[0m \u001b[0m                                     ||\n",
      "|| Multi-overlapping reads : \u001b[36mnot counted\u001b[0m \u001b[0m                                     ||\n",
      "||   Min overlapping bases : \u001b[36m1\u001b[0m \u001b[0m                                               ||\n",
      "||  \u001b[0m                                                                          ||\n",
      "\\\\============================================================================//\n",
      "\n",
      "//=================================\u001b[36m Running \u001b[0m==================================\\\\\n",
      "||  \u001b[0m                                                                          ||\n",
      "|| Load annotation file gencode.gtf \u001b[0m... \u001b[0m                                      ||\n",
      "||    Features : \u001b[36m841952\u001b[0m \u001b[0m                                                      ||\n",
      "||    Meta-features : \u001b[36m55359\u001b[0m \u001b[0m                                                  ||\n",
      "||    Chromosomes/contigs : \u001b[36m22\u001b[0m \u001b[0m                                               ||\n",
      "||  \u001b[0m                                                                          ||\n",
      "|| Process BAM file CLIP-35L33G.bam... \u001b[0m                                       ||\n",
      "||    Single-end reads are included. \u001b[0m                                         ||\n",
      "||    Total alignments : \u001b[36m38880853\u001b[0m \u001b[0m                                            ||\n",
      "||    Successfully assigned alignments : \u001b[36m13630945 (35.1%)\u001b[0m \u001b[0m                    ||\n",
      "||    Running time : \u001b[36m0.70 minutes\u001b[0m \u001b[0m                                            ||\n",
      "||  \u001b[0m                                                                          ||\n",
      "|| Process BAM file RNA-control.bam... \u001b[0m                                       ||\n",
      "||    Single-end reads are included. \u001b[0m                                         ||\n",
      "||    Total alignments : \u001b[36m24971058\u001b[0m \u001b[0m                                            ||\n",
      "||    Successfully assigned alignments : \u001b[36m5200836 (20.8%)\u001b[0m \u001b[0m                     ||\n",
      "||    Running time : \u001b[36m0.37 minutes\u001b[0m \u001b[0m                                            ||\n",
      "||  \u001b[0m                                                                          ||\n",
      "|| Process BAM file RNA-siLin28a.bam... \u001b[0m                                      ||\n",
      "||    Single-end reads are included. \u001b[0m                                         ||\n",
      "||    Total alignments : \u001b[36m35108178\u001b[0m \u001b[0m                                            ||\n",
      "||    Successfully assigned alignments : \u001b[36m12338280 (35.1%)\u001b[0m \u001b[0m                    ||\n",
      "||    Running time : \u001b[36m0.53 minutes\u001b[0m \u001b[0m                                            ||\n",
      "||  \u001b[0m                                                                          ||\n",
      "|| Process BAM file RNA-siLuc.bam... \u001b[0m                                         ||\n",
      "||    Single-end reads are included. \u001b[0m                                         ||\n",
      "||    Total alignments : \u001b[36m28117241\u001b[0m \u001b[0m                                            ||\n",
      "||    Successfully assigned alignments : \u001b[36m9748787 (34.7%)\u001b[0m \u001b[0m                     ||\n",
      "||    Running time : \u001b[36m0.43 minutes\u001b[0m \u001b[0m                                            ||\n",
      "||  \u001b[0m                                                                          ||\n",
      "|| Process BAM file RPF-siLin28a.bam... \u001b[0m                                      ||\n",
      "||    Single-end reads are included. \u001b[0m                                         ||\n",
      "||    Total alignments : \u001b[36m30095551\u001b[0m \u001b[0m                                            ||\n",
      "||    Successfully assigned alignments : \u001b[36m10694162 (35.5%)\u001b[0m \u001b[0m                    ||\n",
      "||    Running time : \u001b[36m0.40 minutes\u001b[0m \u001b[0m                                            ||\n",
      "||  \u001b[0m                                                                          ||\n",
      "|| Process BAM file RPF-siLuc.bam... \u001b[0m                                         ||\n",
      "||    Single-end reads are included. \u001b[0m                                         ||\n",
      "||    Total alignments : \u001b[36m42002435\u001b[0m \u001b[0m                                            ||\n",
      "||    Successfully assigned alignments : \u001b[36m12932285 (30.8%)\u001b[0m \u001b[0m                    ||\n",
      "||    Running time : \u001b[36m0.55 minutes\u001b[0m \u001b[0m                                            ||\n",
      "||  \u001b[0m                                                                          ||\n",
      "|| Write the final count table. \u001b[0m                                              ||\n",
      "|| Write the read assignment summary. \u001b[0m                                        ||\n",
      "||  \u001b[0m                                                                          ||\n",
      "|| Summary of counting results can be found in file \"../../stats/read-counts \u001b[0m ||\n",
      "|| .txt.summary\" \u001b[0m                                                             ||\n",
      "||  \u001b[0m                                                                          ||\n",
      "\\\\============================================================================//\n",
      "\n"
     ]
    }
   ],
   "source": [
    "!$FEATURE_COUNTS -a ../gencode.gtf -o ../../stats/read-counts.txt *.bam "
   ]
  },
  {
   "cell_type": "markdown",
   "metadata": {
    "id": "b2yJztZvGl9Q"
   },
   "source": [
    "결과를 pandas로 읽어와 봅니다."
   ]
  },
  {
   "cell_type": "code",
   "execution_count": 20,
   "metadata": {
    "id": "BMyNT3ARFAWi"
   },
   "outputs": [
    {
     "data": {
      "text/html": [
       "<div>\n",
       "<style scoped>\n",
       "    .dataframe tbody tr th:only-of-type {\n",
       "        vertical-align: middle;\n",
       "    }\n",
       "\n",
       "    .dataframe tbody tr th {\n",
       "        vertical-align: top;\n",
       "    }\n",
       "\n",
       "    .dataframe thead th {\n",
       "        text-align: right;\n",
       "    }\n",
       "</style>\n",
       "<table border=\"1\" class=\"dataframe\">\n",
       "  <thead>\n",
       "    <tr style=\"text-align: right;\">\n",
       "      <th></th>\n",
       "      <th>Chr</th>\n",
       "      <th>Start</th>\n",
       "      <th>End</th>\n",
       "      <th>Strand</th>\n",
       "      <th>Length</th>\n",
       "      <th>CLIP-35L33G.bam</th>\n",
       "      <th>RNA-control.bam</th>\n",
       "      <th>RNA-siLin28a.bam</th>\n",
       "      <th>RNA-siLuc.bam</th>\n",
       "      <th>RPF-siLin28a.bam</th>\n",
       "      <th>RPF-siLuc.bam</th>\n",
       "    </tr>\n",
       "    <tr>\n",
       "      <th>Geneid</th>\n",
       "      <th></th>\n",
       "      <th></th>\n",
       "      <th></th>\n",
       "      <th></th>\n",
       "      <th></th>\n",
       "      <th></th>\n",
       "      <th></th>\n",
       "      <th></th>\n",
       "      <th></th>\n",
       "      <th></th>\n",
       "      <th></th>\n",
       "    </tr>\n",
       "  </thead>\n",
       "  <tbody>\n",
       "    <tr>\n",
       "      <th>ENSMUSG00000102693.2</th>\n",
       "      <td>chr1</td>\n",
       "      <td>3143476</td>\n",
       "      <td>3144545</td>\n",
       "      <td>+</td>\n",
       "      <td>1070</td>\n",
       "      <td>0</td>\n",
       "      <td>0</td>\n",
       "      <td>0</td>\n",
       "      <td>0</td>\n",
       "      <td>0</td>\n",
       "      <td>0</td>\n",
       "    </tr>\n",
       "    <tr>\n",
       "      <th>ENSMUSG00000064842.3</th>\n",
       "      <td>chr1</td>\n",
       "      <td>3172239</td>\n",
       "      <td>3172348</td>\n",
       "      <td>+</td>\n",
       "      <td>110</td>\n",
       "      <td>0</td>\n",
       "      <td>0</td>\n",
       "      <td>0</td>\n",
       "      <td>0</td>\n",
       "      <td>0</td>\n",
       "      <td>0</td>\n",
       "    </tr>\n",
       "    <tr>\n",
       "      <th>ENSMUSG00000051951.6</th>\n",
       "      <td>chr1;chr1;chr1;chr1;chr1;chr1;chr1</td>\n",
       "      <td>3276124;3276746;3283662;3283832;3284705;349192...</td>\n",
       "      <td>3277540;3277540;3285855;3286567;3287191;349212...</td>\n",
       "      <td>-;-;-;-;-;-;-</td>\n",
       "      <td>6094</td>\n",
       "      <td>4</td>\n",
       "      <td>1</td>\n",
       "      <td>1</td>\n",
       "      <td>1</td>\n",
       "      <td>0</td>\n",
       "      <td>0</td>\n",
       "    </tr>\n",
       "    <tr>\n",
       "      <th>ENSMUSG00000102851.2</th>\n",
       "      <td>chr1</td>\n",
       "      <td>3322980</td>\n",
       "      <td>3323459</td>\n",
       "      <td>+</td>\n",
       "      <td>480</td>\n",
       "      <td>3</td>\n",
       "      <td>0</td>\n",
       "      <td>0</td>\n",
       "      <td>0</td>\n",
       "      <td>0</td>\n",
       "      <td>0</td>\n",
       "    </tr>\n",
       "    <tr>\n",
       "      <th>ENSMUSG00000103377.2</th>\n",
       "      <td>chr1</td>\n",
       "      <td>3435954</td>\n",
       "      <td>3438772</td>\n",
       "      <td>-</td>\n",
       "      <td>2819</td>\n",
       "      <td>0</td>\n",
       "      <td>0</td>\n",
       "      <td>0</td>\n",
       "      <td>0</td>\n",
       "      <td>0</td>\n",
       "      <td>0</td>\n",
       "    </tr>\n",
       "  </tbody>\n",
       "</table>\n",
       "</div>"
      ],
      "text/plain": [
       "                                                     Chr  \\\n",
       "Geneid                                                     \n",
       "ENSMUSG00000102693.2                                chr1   \n",
       "ENSMUSG00000064842.3                                chr1   \n",
       "ENSMUSG00000051951.6  chr1;chr1;chr1;chr1;chr1;chr1;chr1   \n",
       "ENSMUSG00000102851.2                                chr1   \n",
       "ENSMUSG00000103377.2                                chr1   \n",
       "\n",
       "                                                                  Start  \\\n",
       "Geneid                                                                    \n",
       "ENSMUSG00000102693.2                                            3143476   \n",
       "ENSMUSG00000064842.3                                            3172239   \n",
       "ENSMUSG00000051951.6  3276124;3276746;3283662;3283832;3284705;349192...   \n",
       "ENSMUSG00000102851.2                                            3322980   \n",
       "ENSMUSG00000103377.2                                            3435954   \n",
       "\n",
       "                                                                    End  \\\n",
       "Geneid                                                                    \n",
       "ENSMUSG00000102693.2                                            3144545   \n",
       "ENSMUSG00000064842.3                                            3172348   \n",
       "ENSMUSG00000051951.6  3277540;3277540;3285855;3286567;3287191;349212...   \n",
       "ENSMUSG00000102851.2                                            3323459   \n",
       "ENSMUSG00000103377.2                                            3438772   \n",
       "\n",
       "                             Strand  Length  CLIP-35L33G.bam  RNA-control.bam  \\\n",
       "Geneid                                                                          \n",
       "ENSMUSG00000102693.2              +    1070                0                0   \n",
       "ENSMUSG00000064842.3              +     110                0                0   \n",
       "ENSMUSG00000051951.6  -;-;-;-;-;-;-    6094                4                1   \n",
       "ENSMUSG00000102851.2              +     480                3                0   \n",
       "ENSMUSG00000103377.2              -    2819                0                0   \n",
       "\n",
       "                      RNA-siLin28a.bam  RNA-siLuc.bam  RPF-siLin28a.bam  \\\n",
       "Geneid                                                                    \n",
       "ENSMUSG00000102693.2                 0              0                 0   \n",
       "ENSMUSG00000064842.3                 0              0                 0   \n",
       "ENSMUSG00000051951.6                 1              1                 0   \n",
       "ENSMUSG00000102851.2                 0              0                 0   \n",
       "ENSMUSG00000103377.2                 0              0                 0   \n",
       "\n",
       "                      RPF-siLuc.bam  \n",
       "Geneid                               \n",
       "ENSMUSG00000102693.2              0  \n",
       "ENSMUSG00000064842.3              0  \n",
       "ENSMUSG00000051951.6              0  \n",
       "ENSMUSG00000102851.2              0  \n",
       "ENSMUSG00000103377.2              0  "
      ]
     },
     "execution_count": 20,
     "metadata": {},
     "output_type": "execute_result"
    }
   ],
   "source": [
    "import pandas as pd\n",
    "cnts = pd.read_csv('../../stats/read-counts.txt', sep='\\t', comment='#', index_col=0)\n",
    "cnts.head()"
   ]
  },
  {
   "cell_type": "markdown",
   "metadata": {
    "id": "NyrUZ7WBPAmv"
   },
   "source": [
    "이제 한 번 대충 그림을 그려 봅니다."
   ]
  },
  {
   "cell_type": "code",
   "execution_count": 21,
   "metadata": {
    "id": "YlSZiJgVPAZS"
   },
   "outputs": [
    {
     "data": {
      "text/html": [
       "<div>\n",
       "<style scoped>\n",
       "    .dataframe tbody tr th:only-of-type {\n",
       "        vertical-align: middle;\n",
       "    }\n",
       "\n",
       "    .dataframe tbody tr th {\n",
       "        vertical-align: top;\n",
       "    }\n",
       "\n",
       "    .dataframe thead th {\n",
       "        text-align: right;\n",
       "    }\n",
       "</style>\n",
       "<table border=\"1\" class=\"dataframe\">\n",
       "  <thead>\n",
       "    <tr style=\"text-align: right;\">\n",
       "      <th></th>\n",
       "      <th>Chr</th>\n",
       "      <th>Start</th>\n",
       "      <th>End</th>\n",
       "      <th>Strand</th>\n",
       "      <th>Length</th>\n",
       "      <th>CLIP-35L33G.bam</th>\n",
       "      <th>RNA-control.bam</th>\n",
       "      <th>RNA-siLin28a.bam</th>\n",
       "      <th>RNA-siLuc.bam</th>\n",
       "      <th>RPF-siLin28a.bam</th>\n",
       "      <th>RPF-siLuc.bam</th>\n",
       "      <th>clip_enrichment</th>\n",
       "      <th>rden_change</th>\n",
       "    </tr>\n",
       "    <tr>\n",
       "      <th>Geneid</th>\n",
       "      <th></th>\n",
       "      <th></th>\n",
       "      <th></th>\n",
       "      <th></th>\n",
       "      <th></th>\n",
       "      <th></th>\n",
       "      <th></th>\n",
       "      <th></th>\n",
       "      <th></th>\n",
       "      <th></th>\n",
       "      <th></th>\n",
       "      <th></th>\n",
       "      <th></th>\n",
       "    </tr>\n",
       "  </thead>\n",
       "  <tbody>\n",
       "    <tr>\n",
       "      <th>ENSMUSG00000102693.2</th>\n",
       "      <td>chr1</td>\n",
       "      <td>3143476</td>\n",
       "      <td>3144545</td>\n",
       "      <td>+</td>\n",
       "      <td>1070</td>\n",
       "      <td>0</td>\n",
       "      <td>0</td>\n",
       "      <td>0</td>\n",
       "      <td>0</td>\n",
       "      <td>0</td>\n",
       "      <td>0</td>\n",
       "      <td>NaN</td>\n",
       "      <td>NaN</td>\n",
       "    </tr>\n",
       "    <tr>\n",
       "      <th>ENSMUSG00000064842.3</th>\n",
       "      <td>chr1</td>\n",
       "      <td>3172239</td>\n",
       "      <td>3172348</td>\n",
       "      <td>+</td>\n",
       "      <td>110</td>\n",
       "      <td>0</td>\n",
       "      <td>0</td>\n",
       "      <td>0</td>\n",
       "      <td>0</td>\n",
       "      <td>0</td>\n",
       "      <td>0</td>\n",
       "      <td>NaN</td>\n",
       "      <td>NaN</td>\n",
       "    </tr>\n",
       "    <tr>\n",
       "      <th>ENSMUSG00000051951.6</th>\n",
       "      <td>chr1;chr1;chr1;chr1;chr1;chr1;chr1</td>\n",
       "      <td>3276124;3276746;3283662;3283832;3284705;349192...</td>\n",
       "      <td>3277540;3277540;3285855;3286567;3287191;349212...</td>\n",
       "      <td>-;-;-;-;-;-;-</td>\n",
       "      <td>6094</td>\n",
       "      <td>4</td>\n",
       "      <td>1</td>\n",
       "      <td>1</td>\n",
       "      <td>1</td>\n",
       "      <td>0</td>\n",
       "      <td>0</td>\n",
       "      <td>4.0</td>\n",
       "      <td>NaN</td>\n",
       "    </tr>\n",
       "    <tr>\n",
       "      <th>ENSMUSG00000102851.2</th>\n",
       "      <td>chr1</td>\n",
       "      <td>3322980</td>\n",
       "      <td>3323459</td>\n",
       "      <td>+</td>\n",
       "      <td>480</td>\n",
       "      <td>3</td>\n",
       "      <td>0</td>\n",
       "      <td>0</td>\n",
       "      <td>0</td>\n",
       "      <td>0</td>\n",
       "      <td>0</td>\n",
       "      <td>inf</td>\n",
       "      <td>NaN</td>\n",
       "    </tr>\n",
       "    <tr>\n",
       "      <th>ENSMUSG00000103377.2</th>\n",
       "      <td>chr1</td>\n",
       "      <td>3435954</td>\n",
       "      <td>3438772</td>\n",
       "      <td>-</td>\n",
       "      <td>2819</td>\n",
       "      <td>0</td>\n",
       "      <td>0</td>\n",
       "      <td>0</td>\n",
       "      <td>0</td>\n",
       "      <td>0</td>\n",
       "      <td>0</td>\n",
       "      <td>NaN</td>\n",
       "      <td>NaN</td>\n",
       "    </tr>\n",
       "  </tbody>\n",
       "</table>\n",
       "</div>"
      ],
      "text/plain": [
       "                                                     Chr  \\\n",
       "Geneid                                                     \n",
       "ENSMUSG00000102693.2                                chr1   \n",
       "ENSMUSG00000064842.3                                chr1   \n",
       "ENSMUSG00000051951.6  chr1;chr1;chr1;chr1;chr1;chr1;chr1   \n",
       "ENSMUSG00000102851.2                                chr1   \n",
       "ENSMUSG00000103377.2                                chr1   \n",
       "\n",
       "                                                                  Start  \\\n",
       "Geneid                                                                    \n",
       "ENSMUSG00000102693.2                                            3143476   \n",
       "ENSMUSG00000064842.3                                            3172239   \n",
       "ENSMUSG00000051951.6  3276124;3276746;3283662;3283832;3284705;349192...   \n",
       "ENSMUSG00000102851.2                                            3322980   \n",
       "ENSMUSG00000103377.2                                            3435954   \n",
       "\n",
       "                                                                    End  \\\n",
       "Geneid                                                                    \n",
       "ENSMUSG00000102693.2                                            3144545   \n",
       "ENSMUSG00000064842.3                                            3172348   \n",
       "ENSMUSG00000051951.6  3277540;3277540;3285855;3286567;3287191;349212...   \n",
       "ENSMUSG00000102851.2                                            3323459   \n",
       "ENSMUSG00000103377.2                                            3438772   \n",
       "\n",
       "                             Strand  Length  CLIP-35L33G.bam  RNA-control.bam  \\\n",
       "Geneid                                                                          \n",
       "ENSMUSG00000102693.2              +    1070                0                0   \n",
       "ENSMUSG00000064842.3              +     110                0                0   \n",
       "ENSMUSG00000051951.6  -;-;-;-;-;-;-    6094                4                1   \n",
       "ENSMUSG00000102851.2              +     480                3                0   \n",
       "ENSMUSG00000103377.2              -    2819                0                0   \n",
       "\n",
       "                      RNA-siLin28a.bam  RNA-siLuc.bam  RPF-siLin28a.bam  \\\n",
       "Geneid                                                                    \n",
       "ENSMUSG00000102693.2                 0              0                 0   \n",
       "ENSMUSG00000064842.3                 0              0                 0   \n",
       "ENSMUSG00000051951.6                 1              1                 0   \n",
       "ENSMUSG00000102851.2                 0              0                 0   \n",
       "ENSMUSG00000103377.2                 0              0                 0   \n",
       "\n",
       "                      RPF-siLuc.bam  clip_enrichment  rden_change  \n",
       "Geneid                                                             \n",
       "ENSMUSG00000102693.2              0              NaN          NaN  \n",
       "ENSMUSG00000064842.3              0              NaN          NaN  \n",
       "ENSMUSG00000051951.6              0              4.0          NaN  \n",
       "ENSMUSG00000102851.2              0              inf          NaN  \n",
       "ENSMUSG00000103377.2              0              NaN          NaN  "
      ]
     },
     "execution_count": 21,
     "metadata": {},
     "output_type": "execute_result"
    }
   ],
   "source": [
    "cnts['clip_enrichment'] = cnts['CLIP-35L33G.bam'] / cnts['RNA-control.bam']\n",
    "cnts['rden_change'] = (cnts['RPF-siLin28a.bam'] / cnts['RNA-siLin28a.bam']) / (cnts['RPF-siLuc.bam'] / cnts['RNA-siLuc.bam'])\n",
    "cnts.head()"
   ]
  },
  {
   "cell_type": "code",
   "execution_count": 25,
   "metadata": {
    "id": "vU3ce_HEFALl"
   },
   "outputs": [
    {
     "name": "stderr",
     "output_type": "stream",
     "text": [
      "/casa/hyejun18/.local/lib/python3.6/site-packages/pandas/core/series.py:726: RuntimeWarning: divide by zero encountered in log2\n",
      "  result = getattr(ufunc, method)(*inputs, **kwargs)\n"
     ]
    },
    {
     "data": {
      "text/plain": [
       "Text(0, 0.5, 'Ribosome density change\\nupon $Lin28a$ knockdown ( $log_{2}$ )')"
      ]
     },
     "execution_count": 25,
     "metadata": {},
     "output_type": "execute_result"
    },
    {
     "data": {
      "image/png": "[encoded data removed]",
      "text/plain": [
       "<Figure size 216x216 with 1 Axes>"
      ]
     },
     "metadata": {
      "needs_background": "light"
     },
     "output_type": "display_data"
    }
   ],
   "source": [
    "from matplotlib import pyplot as plt\n",
    "import numpy as np\n",
    "from scipy import stats\n",
    "\n",
    "cntsFiltered = cnts[cnts['RNA-control.bam'] >= 100]\n",
    "fig, ax = plt.subplots(1, 1, figsize=(3, 3))\n",
    "ax.scatter(np.log2(cntsFiltered['clip_enrichment']),\n",
    "           np.log2(cntsFiltered['rden_change']), \n",
    "           c='k', s=1, alpha=0.1, zorder=10)\n",
    "ax.set_xlim(-3, 5)\n",
    "ax.set_ylim(-2.5, 1)\n",
    "ax.grid(zorder=1)\n",
    "ax.set_xlabel(r'LIN28A CLIP enrichment ( $log_{2}$ )')\n",
    "ax.set_ylabel('Ribosome density change\\nupon ' + r'$Lin28a$ knockdown ( $log_{2}$ )')"
   ]
  },
  {
   "cell_type": "markdown",
   "metadata": {
    "id": "ksVjIL10mV_v"
   },
   "source": [
    "이 그림에는 문제가 많이 있습니다. 논문의 그림처럼 한 번 만들어 봅시다~"
   ]
  },
  {
   "cell_type": "code",
   "execution_count": null,
   "metadata": {
    "id": "RZ-EV3s5X3u5"
   },
   "outputs": [],
   "source": []
  },
  {
   "cell_type": "markdown",
   "metadata": {
    "id": "sf6EJJ60Qbxg"
   },
   "source": [
    "## Protein localization 반영하기\n",
    "\n",
    "논문 그림에서는 protein localization을 반영해서 색으로 나타냈습니다. 이것을 한 번 구현해 봅시다. 각 gene product의 localization을 따로 구하려면 좀 귀찮기 때문에 미리 모아 두었습니다. UniProt에서 매핑된 데이터를 토대로 아주 명확한 것만 일부 정리한 것입니다. 이것도 마찬가지로 처음엔 에러가 나기도 하니까, 다시 실행해보면 거의 잘 됩니다~"
   ]
  },
  {
   "cell_type": "code",
   "execution_count": 24,
   "metadata": {
    "id": "ivb1q7_f-gl4"
   },
   "outputs": [
    {
     "data": {
      "text/html": [
       "<div>\n",
       "<style scoped>\n",
       "    .dataframe tbody tr th:only-of-type {\n",
       "        vertical-align: middle;\n",
       "    }\n",
       "\n",
       "    .dataframe tbody tr th {\n",
       "        vertical-align: top;\n",
       "    }\n",
       "\n",
       "    .dataframe thead th {\n",
       "        text-align: right;\n",
       "    }\n",
       "</style>\n",
       "<table border=\"1\" class=\"dataframe\">\n",
       "  <thead>\n",
       "    <tr style=\"text-align: right;\">\n",
       "      <th></th>\n",
       "      <th>gene_id</th>\n",
       "      <th>Gene names</th>\n",
       "      <th>type</th>\n",
       "    </tr>\n",
       "  </thead>\n",
       "  <tbody>\n",
       "    <tr>\n",
       "      <th>0</th>\n",
       "      <td>ENSMUSG00000000001</td>\n",
       "      <td>Gnai3</td>\n",
       "      <td>cytoplasm</td>\n",
       "    </tr>\n",
       "    <tr>\n",
       "      <th>1</th>\n",
       "      <td>ENSMUSG00000000028</td>\n",
       "      <td>Cdc45 Cdc45l Cdc45l2</td>\n",
       "      <td>nucleus</td>\n",
       "    </tr>\n",
       "    <tr>\n",
       "      <th>2</th>\n",
       "      <td>ENSMUSG00000000049</td>\n",
       "      <td>Apoh B2gp1</td>\n",
       "      <td>cytoplasm</td>\n",
       "    </tr>\n",
       "    <tr>\n",
       "      <th>3</th>\n",
       "      <td>ENSMUSG00000000058</td>\n",
       "      <td>Cav2</td>\n",
       "      <td>cytoplasm</td>\n",
       "    </tr>\n",
       "    <tr>\n",
       "      <th>4</th>\n",
       "      <td>ENSMUSG00000000085</td>\n",
       "      <td>Scmh1</td>\n",
       "      <td>nucleus</td>\n",
       "    </tr>\n",
       "  </tbody>\n",
       "</table>\n",
       "</div>"
      ],
      "text/plain": [
       "              gene_id            Gene names       type\n",
       "0  ENSMUSG00000000001                 Gnai3  cytoplasm\n",
       "1  ENSMUSG00000000028  Cdc45 Cdc45l Cdc45l2    nucleus\n",
       "2  ENSMUSG00000000049            Apoh B2gp1  cytoplasm\n",
       "3  ENSMUSG00000000058                  Cav2  cytoplasm\n",
       "4  ENSMUSG00000000085                 Scmh1    nucleus"
      ]
     },
     "execution_count": 24,
     "metadata": {},
     "output_type": "execute_result"
    }
   ],
   "source": [
    "import ssl\n",
    "ssl._create_default_https_context = ssl._create_unverified_context\n",
    "mouselocal = pd.read_csv('https://hyeshik.qbio.io/binfo/mouselocalization-20210507.txt', sep='\\t')\n",
    "mouselocal.head()"
   ]
  },
  {
   "cell_type": "markdown",
   "metadata": {
    "id": "Q9vgSzeiQxDU"
   },
   "source": [
    "이제 이 localization 데이터와 위에서 만든 scatter를 결합해서 논문 그림과 비슷하게 만들어 봅시다."
   ]
  },
  {
   "cell_type": "code",
   "execution_count": null,
   "metadata": {
    "id": "aPPW73t4X3pp"
   },
   "outputs": [],
   "source": []
  }
 ],
 "metadata": {
  "colab": {
   "collapsed_sections": [],
   "name": "CoLab_TermProj-2022-1.ipynb",
   "provenance": []
  },
  "kernelspec": {
   "display_name": "Python 3",
   "language": "python",
   "name": "python3"
  },
  "language_info": {
   "codemirror_mode": {
    "name": "ipython",
    "version": 3
   },
   "file_extension": ".py",
   "mimetype": "text/x-python",
   "name": "python",
   "nbconvert_exporter": "python",
   "pygments_lexer": "ipython3",
   "version": "3.6.7"
  }
 },
 "nbformat": 4,
 "nbformat_minor": 1
}
