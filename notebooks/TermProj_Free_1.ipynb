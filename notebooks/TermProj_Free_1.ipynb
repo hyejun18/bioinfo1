{
 "cells": [
  {
   "cell_type": "markdown",
   "metadata": {},
   "source": [
    "# 생물정보학 및 실습 1 - Term Project (Free Analysis) 1/3\n",
    "생물정보학 및 실습 1   \n",
    "서울대학교 협동과정 생물정보학전공 2022년 1학기"
   ]
  },
  {
   "cell_type": "code",
   "execution_count": 1,
   "metadata": {},
   "outputs": [],
   "source": [
    "from collections import Counter, defaultdict\n",
    "import math\n",
    "import os\n",
    "import sys\n",
    "import pickle\n",
    "import time\n",
    "\n",
    "import numpy as np\n",
    "import pandas as pd\n",
    "from matplotlib import pyplot as plt\n",
    "import seaborn as sns\n",
    "from scipy import stats\n",
    "import pysam"
   ]
  },
  {
   "cell_type": "code",
   "execution_count": 52,
   "metadata": {},
   "outputs": [],
   "source": [
    "CLIP_BAM_PATH = '../data/binfo1-datapack1/CLIP-35L33G.bam'\n",
    "FASTA_DIR_PATH    = '../data/chromFa'\n",
    "HEXAMER_FASTA_PATH = '../stats/hexamers-cres12.fasta'\n",
    "OCTADECAMER_FASTA_PATH = '../stats/octadecamers.fasta'"
   ]
  },
  {
   "cell_type": "markdown",
   "metadata": {},
   "source": [
    "## 1. Prepare Reference FASTAs\n",
    "+ `mm39.chromFa.tar.gz` was downloaded from UCSC Genome Browser\n",
    "+ FASTAs were extracted into `FASTA_DIR_PATH` by `tar -zxvf`"
   ]
  },
  {
   "cell_type": "code",
   "execution_count": 3,
   "metadata": {},
   "outputs": [],
   "source": [
    "# Make dctFastaMatch that has {gencode chromID : RefSeq chromID}\n",
    "lstRefSeqFa = os.listdir(FASTA_DIR_PATH)\n",
    "dctFastaMatch = {}\n",
    "for fa in lstRefSeqFa:\n",
    "    chrId = fa.replace('.fa', '')\n",
    "    if '_' not in fa:\n",
    "        dctFastaMatch[chrId] = fa\n",
    "    else:\n",
    "        dctFastaMatch[chrId.split('_')[1].replace('v', '.')] = fa"
   ]
  },
  {
   "cell_type": "code",
   "execution_count": 4,
   "metadata": {},
   "outputs": [
    {
     "data": {
      "text/plain": [
       "'chr1_GL456210v1_random.fa'"
      ]
     },
     "execution_count": 4,
     "metadata": {},
     "output_type": "execute_result"
    }
   ],
   "source": [
    "# Validation\n",
    "dctFastaMatch['GL456210.1']"
   ]
  },
  {
   "cell_type": "code",
   "execution_count": 5,
   "metadata": {},
   "outputs": [],
   "source": [
    "del dctFastaMatch['chrM']"
   ]
  },
  {
   "cell_type": "markdown",
   "metadata": {},
   "source": [
    "## 2. Collect Putative Binding Sequences"
   ]
  },
  {
   "cell_type": "code",
   "execution_count": 6,
   "metadata": {},
   "outputs": [],
   "source": [
    "DEPTH_CUTOFF = 50\n",
    "CRES_CUTOFF  = 1.2"
   ]
  },
  {
   "cell_type": "code",
   "execution_count": 7,
   "metadata": {
    "scrolled": false
   },
   "outputs": [],
   "source": [
    "def get_chr_binding_positions(chrId):\n",
    "    pileUp = pysam.AlignmentFile(CLIP_BAM_PATH).pileup(chrId)\n",
    "    lstBindingPositionsPos, lstBindingPositionsNeg = [], []\n",
    "    for col in pileUp:\n",
    "        bases = col.get_query_sequences()\n",
    "        basesPos = [base for base in bases if base.isupper()]\n",
    "        basesNeg = [base for base in bases if base.islower()]\n",
    "        if len(basesPos) >= DEPTH_CUTOFF:\n",
    "            cres = stats.entropy(list(Counter(bases).values()), base=2)\n",
    "            if cres >= CRES_CUTOFF:\n",
    "                lstBindingPositionsPos.append(col.reference_pos)\n",
    "        if len(basesNeg) >= DEPTH_CUTOFF:\n",
    "            cres = stats.entropy(list(Counter(bases).values()), base=2)\n",
    "            if cres >= CRES_CUTOFF:\n",
    "                lstBindingPositionsNeg.append(col.reference_pos)\n",
    "    return lstBindingPositionsPos, lstBindingPositionsNeg"
   ]
  },
  {
   "cell_type": "code",
   "execution_count": 8,
   "metadata": {},
   "outputs": [],
   "source": [
    "# Complement: A <--> T, G <--> C\n",
    "# Dictionary for the Unicode code point\n",
    "dctComplement = str.maketrans('ACGT', 'TGCA')"
   ]
  },
  {
   "cell_type": "code",
   "execution_count": 10,
   "metadata": {},
   "outputs": [],
   "source": [
    "def get_binding_sequences(chrId):\n",
    "    lstBindingPositionsPos, lstBindingPositionsNeg = get_chr_binding_positions(chrId)\n",
    "\n",
    "    fasta_file_path = os.path.join(FASTA_DIR_PATH, dctFastaMatch[chrId])\n",
    "    with open(fasta_file_path, 'rt') as fIn:\n",
    "        assert next(fIn).startswith('>') # Skip header\n",
    "        seq = fIn.read().strip().replace('\\n', '').upper() # Remove new line chr and make lowercase be uppercase\n",
    "\n",
    "    dctSeqs = Counter()\n",
    "    for pos in lstBindingPositionsPos:\n",
    "        dctSeqs.update([seq[pos-8:pos+10]])\n",
    "    for pos in lstBindingPositionsNeg:\n",
    "        hexamer = seq[pos-9:pos+9][::-1].translate(dctComplement)\n",
    "        dctSeqs.update([hexamer])\n",
    "    return dctSeqs"
   ]
  },
  {
   "cell_type": "code",
   "execution_count": 11,
   "metadata": {},
   "outputs": [
    {
     "name": "stdout",
     "output_type": "stream",
     "text": [
      "Tue Jun  7 15:51:17 2022 --- chr10.fa now opens\n",
      "Tue Jun  7 15:53:36 2022 --- chr11.fa now opens\n",
      "Tue Jun  7 15:57:03 2022 --- chr12.fa now opens\n",
      "Tue Jun  7 15:59:01 2022 --- chr13.fa now opens\n",
      "Tue Jun  7 16:01:06 2022 --- chr14.fa now opens\n",
      "Tue Jun  7 16:02:57 2022 --- chr15.fa now opens\n",
      "Tue Jun  7 16:04:54 2022 --- chr16.fa now opens\n",
      "Tue Jun  7 16:06:31 2022 --- chr17.fa now opens\n",
      "Tue Jun  7 16:08:27 2022 --- chr18.fa now opens\n",
      "Tue Jun  7 16:09:49 2022 --- chr19.fa now opens\n",
      "Tue Jun  7 16:10:57 2022 --- chr1.fa now opens\n",
      "Tue Jun  7 16:15:20 2022 --- chr1_GL456210v1_random.fa now opens\n",
      "Tue Jun  7 16:15:20 2022 --- chr1_GL456211v1_random.fa now opens\n",
      "Tue Jun  7 16:15:20 2022 --- chr1_GL456212v1_random.fa now opens\n",
      "Tue Jun  7 16:15:20 2022 --- chr1_GL456221v1_random.fa now opens\n",
      "Tue Jun  7 16:15:20 2022 --- chr1_GL456239v1_random.fa now opens\n",
      "Tue Jun  7 16:15:20 2022 --- chr1_MU069434v1_random.fa now opens\n",
      "Tue Jun  7 16:15:20 2022 --- chr2.fa now opens\n",
      "Tue Jun  7 16:18:58 2022 --- chr3.fa now opens\n",
      "Tue Jun  7 16:21:33 2022 --- chr4.fa now opens\n",
      "Tue Jun  7 16:24:28 2022 --- chr4_JH584295v1_random.fa now opens\n",
      "Tue Jun  7 16:24:28 2022 --- chr5.fa now opens\n",
      "Tue Jun  7 16:27:21 2022 --- chr5_GL456354v1_random.fa now opens\n",
      "Tue Jun  7 16:27:21 2022 --- chr5_JH584296v1_random.fa now opens\n",
      "Tue Jun  7 16:27:22 2022 --- chr5_JH584297v1_random.fa now opens\n",
      "Tue Jun  7 16:27:22 2022 --- chr5_JH584298v1_random.fa now opens\n",
      "Tue Jun  7 16:27:22 2022 --- chr5_JH584299v1_random.fa now opens\n",
      "Tue Jun  7 16:27:22 2022 --- chr6.fa now opens\n",
      "Tue Jun  7 16:29:48 2022 --- chr7.fa now opens\n",
      "Tue Jun  7 16:32:08 2022 --- chr7_GL456219v1_random.fa now opens\n",
      "Tue Jun  7 16:32:09 2022 --- chr8.fa now opens\n",
      "Tue Jun  7 16:34:19 2022 --- chr9.fa now opens\n",
      "Tue Jun  7 16:36:38 2022 --- chrUn_GL456359v1.fa now opens\n",
      "Tue Jun  7 16:36:38 2022 --- chrUn_GL456360v1.fa now opens\n",
      "Tue Jun  7 16:36:38 2022 --- chrUn_GL456366v1.fa now opens\n",
      "Tue Jun  7 16:36:38 2022 --- chrUn_GL456367v1.fa now opens\n",
      "Tue Jun  7 16:36:38 2022 --- chrUn_GL456368v1.fa now opens\n",
      "Tue Jun  7 16:36:38 2022 --- chrUn_GL456370v1.fa now opens\n",
      "Tue Jun  7 16:36:38 2022 --- chrUn_GL456372v1.fa now opens\n",
      "Tue Jun  7 16:36:38 2022 --- chrUn_GL456378v1.fa now opens\n",
      "Tue Jun  7 16:36:38 2022 --- chrUn_GL456379v1.fa now opens\n",
      "Tue Jun  7 16:36:38 2022 --- chrUn_GL456381v1.fa now opens\n",
      "Tue Jun  7 16:36:38 2022 --- chrUn_GL456382v1.fa now opens\n",
      "Tue Jun  7 16:36:38 2022 --- chrUn_GL456383v1.fa now opens\n",
      "Tue Jun  7 16:36:38 2022 --- chrUn_GL456385v1.fa now opens\n",
      "Tue Jun  7 16:36:38 2022 --- chrUn_GL456387v1.fa now opens\n",
      "Tue Jun  7 16:36:38 2022 --- chrUn_GL456389v1.fa now opens\n",
      "Tue Jun  7 16:36:38 2022 --- chrUn_GL456390v1.fa now opens\n",
      "Tue Jun  7 16:36:38 2022 --- chrUn_GL456392v1.fa now opens\n",
      "Tue Jun  7 16:36:38 2022 --- chrUn_GL456394v1.fa now opens\n",
      "Tue Jun  7 16:36:38 2022 --- chrUn_GL456396v1.fa now opens\n",
      "Tue Jun  7 16:36:38 2022 --- chrUn_JH584304v1.fa now opens\n",
      "Tue Jun  7 16:36:38 2022 --- chrUn_MU069435v1.fa now opens\n",
      "Tue Jun  7 16:36:39 2022 --- chrX.fa now opens\n",
      "Tue Jun  7 16:38:42 2022 --- chrX_GL456233v2_random.fa now opens\n",
      "Tue Jun  7 16:38:42 2022 --- chrY.fa now opens\n",
      "Tue Jun  7 16:38:55 2022 --- chrY_JH584300v1_random.fa now opens\n",
      "Tue Jun  7 16:38:56 2022 --- chrY_JH584301v1_random.fa now opens\n",
      "Tue Jun  7 16:38:56 2022 --- chrY_JH584302v1_random.fa now opens\n",
      "Tue Jun  7 16:38:56 2022 --- chrY_JH584303v1_random.fa now opens\n"
     ]
    }
   ],
   "source": [
    "dctSeqs = Counter()\n",
    "for chrId, fa in dctFastaMatch.items():\n",
    "    print(time.ctime(), f'{fa} now opens', sep=' --- ')\n",
    "    dctSeqs.update(get_binding_sequences(chrId))"
   ]
  },
  {
   "cell_type": "code",
   "execution_count": 12,
   "metadata": {},
   "outputs": [
    {
     "data": {
      "text/plain": [
       "[('GTGGGTAAGAGCACCCGA', 18),\n",
       " ('CTTCTGGAGTGTCTGAAG', 14),\n",
       " ('AAAAAAAAAAAAAAAAAA', 14),\n",
       " ('CATAATTTGTGGTAGTGG', 11),\n",
       " ('TTTTTTTTTTTTTTTTTT', 8),\n",
       " ('AAATATAAGAGTTCGGTT', 5),\n",
       " ('CTTCTGGTGTGTCTGAAG', 5),\n",
       " ('CTCTTCTGGAGTGTCTGA', 5),\n",
       " ('CGGGTTCGATTCCCGGTC', 4),\n",
       " ('AGAGGCAGGAGGATCTCT', 4)]"
      ]
     },
     "execution_count": 12,
     "metadata": {},
     "output_type": "execute_result"
    }
   ],
   "source": [
    "dctSeqs.most_common(10)"
   ]
  },
  {
   "cell_type": "code",
   "execution_count": 23,
   "metadata": {},
   "outputs": [
    {
     "data": {
      "text/html": [
       "<div>\n",
       "<style scoped>\n",
       "    .dataframe tbody tr th:only-of-type {\n",
       "        vertical-align: middle;\n",
       "    }\n",
       "\n",
       "    .dataframe tbody tr th {\n",
       "        vertical-align: top;\n",
       "    }\n",
       "\n",
       "    .dataframe thead th {\n",
       "        text-align: right;\n",
       "    }\n",
       "</style>\n",
       "<table border=\"1\" class=\"dataframe\">\n",
       "  <thead>\n",
       "    <tr style=\"text-align: right;\">\n",
       "      <th></th>\n",
       "      <th>counts</th>\n",
       "    </tr>\n",
       "    <tr>\n",
       "      <th>octadecamer</th>\n",
       "      <th></th>\n",
       "    </tr>\n",
       "  </thead>\n",
       "  <tbody>\n",
       "    <tr>\n",
       "      <th>GTGGGTAAGAGCACCCGA</th>\n",
       "      <td>18</td>\n",
       "    </tr>\n",
       "    <tr>\n",
       "      <th>CTTCTGGAGTGTCTGAAG</th>\n",
       "      <td>14</td>\n",
       "    </tr>\n",
       "    <tr>\n",
       "      <th>AAAAAAAAAAAAAAAAAA</th>\n",
       "      <td>14</td>\n",
       "    </tr>\n",
       "    <tr>\n",
       "      <th>CATAATTTGTGGTAGTGG</th>\n",
       "      <td>11</td>\n",
       "    </tr>\n",
       "    <tr>\n",
       "      <th>TTTTTTTTTTTTTTTTTT</th>\n",
       "      <td>8</td>\n",
       "    </tr>\n",
       "  </tbody>\n",
       "</table>\n",
       "</div>"
      ],
      "text/plain": [
       "                    counts\n",
       "octadecamer               \n",
       "GTGGGTAAGAGCACCCGA      18\n",
       "CTTCTGGAGTGTCTGAAG      14\n",
       "AAAAAAAAAAAAAAAAAA      14\n",
       "CATAATTTGTGGTAGTGG      11\n",
       "TTTTTTTTTTTTTTTTTT       8"
      ]
     },
     "execution_count": 23,
     "metadata": {},
     "output_type": "execute_result"
    }
   ],
   "source": [
    "dfSeqs = pd.DataFrame(dctSeqs.most_common(), columns=['octadecamer', 'counts']).set_index('octadecamer')\n",
    "dfSeqs.head()"
   ]
  },
  {
   "cell_type": "code",
   "execution_count": 24,
   "metadata": {},
   "outputs": [
    {
     "data": {
      "text/plain": [
       "24729"
      ]
     },
     "execution_count": 24,
     "metadata": {},
     "output_type": "execute_result"
    }
   ],
   "source": [
    "len(dfSeqs)"
   ]
  },
  {
   "cell_type": "code",
   "execution_count": 25,
   "metadata": {},
   "outputs": [],
   "source": [
    "dfSeqs.to_csv('../stats/octadecamers.txt', sep='\\t')"
   ]
  },
  {
   "cell_type": "markdown",
   "metadata": {},
   "source": [
    "## 3. Discard Noise"
   ]
  },
  {
   "cell_type": "code",
   "execution_count": 56,
   "metadata": {},
   "outputs": [
    {
     "name": "stdout",
     "output_type": "stream",
     "text": [
      "24729\n"
     ]
    },
    {
     "data": {
      "text/html": [
       "<div>\n",
       "<style scoped>\n",
       "    .dataframe tbody tr th:only-of-type {\n",
       "        vertical-align: middle;\n",
       "    }\n",
       "\n",
       "    .dataframe tbody tr th {\n",
       "        vertical-align: top;\n",
       "    }\n",
       "\n",
       "    .dataframe thead th {\n",
       "        text-align: right;\n",
       "    }\n",
       "</style>\n",
       "<table border=\"1\" class=\"dataframe\">\n",
       "  <thead>\n",
       "    <tr style=\"text-align: right;\">\n",
       "      <th></th>\n",
       "      <th>octadecamer</th>\n",
       "      <th>counts</th>\n",
       "    </tr>\n",
       "  </thead>\n",
       "  <tbody>\n",
       "    <tr>\n",
       "      <th>0</th>\n",
       "      <td>GTGGGTAAGAGCACCCGA</td>\n",
       "      <td>18</td>\n",
       "    </tr>\n",
       "    <tr>\n",
       "      <th>1</th>\n",
       "      <td>CTTCTGGAGTGTCTGAAG</td>\n",
       "      <td>14</td>\n",
       "    </tr>\n",
       "    <tr>\n",
       "      <th>2</th>\n",
       "      <td>AAAAAAAAAAAAAAAAAA</td>\n",
       "      <td>14</td>\n",
       "    </tr>\n",
       "    <tr>\n",
       "      <th>3</th>\n",
       "      <td>CATAATTTGTGGTAGTGG</td>\n",
       "      <td>11</td>\n",
       "    </tr>\n",
       "    <tr>\n",
       "      <th>4</th>\n",
       "      <td>TTTTTTTTTTTTTTTTTT</td>\n",
       "      <td>8</td>\n",
       "    </tr>\n",
       "  </tbody>\n",
       "</table>\n",
       "</div>"
      ],
      "text/plain": [
       "          octadecamer  counts\n",
       "0  GTGGGTAAGAGCACCCGA      18\n",
       "1  CTTCTGGAGTGTCTGAAG      14\n",
       "2  AAAAAAAAAAAAAAAAAA      14\n",
       "3  CATAATTTGTGGTAGTGG      11\n",
       "4  TTTTTTTTTTTTTTTTTT       8"
      ]
     },
     "execution_count": 56,
     "metadata": {},
     "output_type": "execute_result"
    }
   ],
   "source": [
    "dfSeqs = pd.read_table('../stats/octadecamers.txt')\n",
    "print(len(dfSeqs))\n",
    "dfSeqs.head()"
   ]
  },
  {
   "cell_type": "code",
   "execution_count": 62,
   "metadata": {},
   "outputs": [
    {
     "data": {
      "text/html": [
       "<div>\n",
       "<style scoped>\n",
       "    .dataframe tbody tr th:only-of-type {\n",
       "        vertical-align: middle;\n",
       "    }\n",
       "\n",
       "    .dataframe tbody tr th {\n",
       "        vertical-align: top;\n",
       "    }\n",
       "\n",
       "    .dataframe thead th {\n",
       "        text-align: right;\n",
       "    }\n",
       "</style>\n",
       "<table border=\"1\" class=\"dataframe\">\n",
       "  <thead>\n",
       "    <tr style=\"text-align: right;\">\n",
       "      <th></th>\n",
       "      <th>octadecamer</th>\n",
       "      <th>counts</th>\n",
       "      <th>hexamer</th>\n",
       "      <th>centre</th>\n",
       "    </tr>\n",
       "  </thead>\n",
       "  <tbody>\n",
       "    <tr>\n",
       "      <th>0</th>\n",
       "      <td>GTGGGTAAGAGCACCCGA</td>\n",
       "      <td>18</td>\n",
       "      <td>AAGAGC</td>\n",
       "      <td>G</td>\n",
       "    </tr>\n",
       "    <tr>\n",
       "      <th>1</th>\n",
       "      <td>CTTCTGGAGTGTCTGAAG</td>\n",
       "      <td>14</td>\n",
       "      <td>GAGTGT</td>\n",
       "      <td>G</td>\n",
       "    </tr>\n",
       "    <tr>\n",
       "      <th>2</th>\n",
       "      <td>AAAAAAAAAAAAAAAAAA</td>\n",
       "      <td>14</td>\n",
       "      <td>AAAAAA</td>\n",
       "      <td>A</td>\n",
       "    </tr>\n",
       "    <tr>\n",
       "      <th>3</th>\n",
       "      <td>CATAATTTGTGGTAGTGG</td>\n",
       "      <td>11</td>\n",
       "      <td>TTGTGG</td>\n",
       "      <td>G</td>\n",
       "    </tr>\n",
       "    <tr>\n",
       "      <th>4</th>\n",
       "      <td>TTTTTTTTTTTTTTTTTT</td>\n",
       "      <td>8</td>\n",
       "      <td>TTTTTT</td>\n",
       "      <td>T</td>\n",
       "    </tr>\n",
       "  </tbody>\n",
       "</table>\n",
       "</div>"
      ],
      "text/plain": [
       "          octadecamer  counts hexamer centre\n",
       "0  GTGGGTAAGAGCACCCGA      18  AAGAGC      G\n",
       "1  CTTCTGGAGTGTCTGAAG      14  GAGTGT      G\n",
       "2  AAAAAAAAAAAAAAAAAA      14  AAAAAA      A\n",
       "3  CATAATTTGTGGTAGTGG      11  TTGTGG      G\n",
       "4  TTTTTTTTTTTTTTTTTT       8  TTTTTT      T"
      ]
     },
     "execution_count": 62,
     "metadata": {},
     "output_type": "execute_result"
    }
   ],
   "source": [
    "dfSeqs['hexamer'] = dfSeqs.octadecamer.str[6:12]\n",
    "dfSeqs['centre'] = dfSeqs.hexamer.str[2]\n",
    "dfSeqs.head()"
   ]
  },
  {
   "cell_type": "code",
   "execution_count": 65,
   "metadata": {},
   "outputs": [
    {
     "data": {
      "text/html": [
       "<div>\n",
       "<style scoped>\n",
       "    .dataframe tbody tr th:only-of-type {\n",
       "        vertical-align: middle;\n",
       "    }\n",
       "\n",
       "    .dataframe tbody tr th {\n",
       "        vertical-align: top;\n",
       "    }\n",
       "\n",
       "    .dataframe thead th {\n",
       "        text-align: right;\n",
       "    }\n",
       "</style>\n",
       "<table border=\"1\" class=\"dataframe\">\n",
       "  <thead>\n",
       "    <tr style=\"text-align: right;\">\n",
       "      <th></th>\n",
       "      <th>counts</th>\n",
       "    </tr>\n",
       "    <tr>\n",
       "      <th>octadecamer</th>\n",
       "      <th></th>\n",
       "    </tr>\n",
       "  </thead>\n",
       "  <tbody>\n",
       "    <tr>\n",
       "      <th>GTGGGTAAGAGCACCCGA</th>\n",
       "      <td>18</td>\n",
       "    </tr>\n",
       "    <tr>\n",
       "      <th>CTTCTGGAGTGTCTGAAG</th>\n",
       "      <td>14</td>\n",
       "    </tr>\n",
       "    <tr>\n",
       "      <th>CATAATTTGTGGTAGTGG</th>\n",
       "      <td>11</td>\n",
       "    </tr>\n",
       "    <tr>\n",
       "      <th>AAATATAAGAGTTCGGTT</th>\n",
       "      <td>5</td>\n",
       "    </tr>\n",
       "    <tr>\n",
       "      <th>CTTCTGGTGTGTCTGAAG</th>\n",
       "      <td>5</td>\n",
       "    </tr>\n",
       "    <tr>\n",
       "      <th>...</th>\n",
       "      <td>...</td>\n",
       "    </tr>\n",
       "    <tr>\n",
       "      <th>AGTAATTTGTGCGGGTTT</th>\n",
       "      <td>1</td>\n",
       "    </tr>\n",
       "    <tr>\n",
       "      <th>GGTCAAGAGAGTATGAAC</th>\n",
       "      <td>1</td>\n",
       "    </tr>\n",
       "    <tr>\n",
       "      <th>ACAGAGCAGTGGTTCTGC</th>\n",
       "      <td>1</td>\n",
       "    </tr>\n",
       "    <tr>\n",
       "      <th>CTTAGAACGTGGATGCCA</th>\n",
       "      <td>1</td>\n",
       "    </tr>\n",
       "    <tr>\n",
       "      <th>CAGTTCAGGATGGAGCTG</th>\n",
       "      <td>1</td>\n",
       "    </tr>\n",
       "  </tbody>\n",
       "</table>\n",
       "<p>22849 rows × 1 columns</p>\n",
       "</div>"
      ],
      "text/plain": [
       "                    counts\n",
       "octadecamer               \n",
       "GTGGGTAAGAGCACCCGA      18\n",
       "CTTCTGGAGTGTCTGAAG      14\n",
       "CATAATTTGTGGTAGTGG      11\n",
       "AAATATAAGAGTTCGGTT       5\n",
       "CTTCTGGTGTGTCTGAAG       5\n",
       "...                    ...\n",
       "AGTAATTTGTGCGGGTTT       1\n",
       "GGTCAAGAGAGTATGAAC       1\n",
       "ACAGAGCAGTGGTTCTGC       1\n",
       "CTTAGAACGTGGATGCCA       1\n",
       "CAGTTCAGGATGGAGCTG       1\n",
       "\n",
       "[22849 rows x 1 columns]"
      ]
     },
     "execution_count": 65,
     "metadata": {},
     "output_type": "execute_result"
    }
   ],
   "source": [
    "dfOctadecamers = dfSeqs[dfSeqs.centre == 'G'][['octadecamer', 'counts']].set_index('octadecamer')\n",
    "dfOctadecamers"
   ]
  },
  {
   "cell_type": "code",
   "execution_count": 64,
   "metadata": {},
   "outputs": [
    {
     "data": {
      "text/plain": [
       "('GTGGGTAAGAGCACCCGA', 18)"
      ]
     },
     "execution_count": 64,
     "metadata": {},
     "output_type": "execute_result"
    }
   ],
   "source": [
    "dctOctadecamers = dfOctadecamers['counts'].to_dict()\n",
    "list(dctOctadecamers.items())[0]"
   ]
  },
  {
   "cell_type": "markdown",
   "metadata": {},
   "source": [
    "## 4. Make FASTA"
   ]
  },
  {
   "cell_type": "code",
   "execution_count": 66,
   "metadata": {},
   "outputs": [],
   "source": [
    "with open(OCTADECAMER_FASTA_PATH, 'wt') as fOut:\n",
    "    for i, (hexamer, counts) in enumerate(dctOctadecamers.items()):\n",
    "        for j in range(counts):\n",
    "            print(\n",
    "                f'>octadecamer-{i}-{j}',\n",
    "                hexamer.replace('T', 'U'),\n",
    "                sep='\\n',\n",
    "                file=fOut\n",
    "            )"
   ]
  },
  {
   "cell_type": "code",
   "execution_count": 67,
   "metadata": {},
   "outputs": [
    {
     "name": "stdout",
     "output_type": "stream",
     "text": [
      ">octadecamer-0-0\r\n",
      "GUGGGUAAGAGCACCCGA\r\n",
      ">octadecamer-0-1\r\n",
      "GUGGGUAAGAGCACCCGA\r\n",
      ">octadecamer-0-2\r\n",
      "GUGGGUAAGAGCACCCGA\r\n",
      ">octadecamer-0-3\r\n",
      "GUGGGUAAGAGCACCCGA\r\n",
      ">octadecamer-0-4\r\n",
      "GUGGGUAAGAGCACCCGA\r\n"
     ]
    }
   ],
   "source": [
    "!head $OCTADECAMER_FASTA_PATH"
   ]
  },
  {
   "cell_type": "markdown",
   "metadata": {},
   "source": [
    "## 5. Plot WebLogo"
   ]
  },
  {
   "cell_type": "markdown",
   "metadata": {},
   "source": [
    "WebLogo site에서 진행"
   ]
  },
  {
   "cell_type": "markdown",
   "metadata": {},
   "source": [
    "![bits.png](https://github.com/hyejun18/bioinfo1/blob/master/images/18mer-denoised-bits.png)"
   ]
  },
  {
   "cell_type": "markdown",
   "metadata": {},
   "source": [
    "![prob.png](https://github.com/hyejun18/bioinfo1/blob/master/images/18mer-denoised-probability.png)"
   ]
  },
  {
   "cell_type": "code",
   "execution_count": null,
   "metadata": {},
   "outputs": [],
   "source": []
  }
 ],
 "metadata": {
  "kernelspec": {
   "display_name": "Python 3",
   "language": "python",
   "name": "python3"
  },
  "language_info": {
   "codemirror_mode": {
    "name": "ipython",
    "version": 3
   },
   "file_extension": ".py",
   "mimetype": "text/x-python",
   "name": "python",
   "nbconvert_exporter": "python",
   "pygments_lexer": "ipython3",
   "version": "3.6.7"
  }
 },
 "nbformat": 4,
 "nbformat_minor": 2
}
