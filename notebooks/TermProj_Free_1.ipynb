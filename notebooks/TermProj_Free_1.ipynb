{
 "cells": [
  {
   "cell_type": "markdown",
   "metadata": {},
   "source": [
    "# 생물정보학 및 실습 1 - Term Project (Free Analysis)\n",
    "생물정보학 및 실습 1   \n",
    "서울대학교 협동과정 생물정보학전공 2022년 1학기"
   ]
  },
  {
   "cell_type": "code",
   "execution_count": 1,
   "metadata": {},
   "outputs": [],
   "source": [
    "from collections import Counter, defaultdict\n",
    "import math\n",
    "import os\n",
    "import sys\n",
    "import pickle\n",
    "import time\n",
    "\n",
    "import numpy as np\n",
    "import pandas as pd\n",
    "from matplotlib import pyplot as plt\n",
    "import seaborn as sns\n",
    "from scipy import stats\n",
    "import pysam"
   ]
  },
  {
   "cell_type": "code",
   "execution_count": 2,
   "metadata": {},
   "outputs": [],
   "source": [
    "CLIP_BAM_PATH = '../data/binfo1-datapack1/CLIP-35L33G.bam'\n",
    "FASTA_DIR_PATH    = '../data/chromFa'"
   ]
  },
  {
   "cell_type": "markdown",
   "metadata": {},
   "source": [
    "## 1. Prepare Reference FASTAs\n",
    "+ `mm39.chromFa.tar.gz` was downloaded from UCSC Genome Browser\n",
    "+ FASTAs were extracted into `FASTA_DIR_PATH` by `tar -zxvf`"
   ]
  },
  {
   "cell_type": "code",
   "execution_count": 3,
   "metadata": {},
   "outputs": [],
   "source": [
    "# Make dctFastaMatch that has {gencode chromID : RefSeq chromID}\n",
    "lstRefSeqFa = os.listdir(FASTA_DIR_PATH)\n",
    "dctFastaMatch = {}\n",
    "for fa in lstRefSeqFa:\n",
    "    chrId = fa.replace('.fa', '')\n",
    "    if '_' not in fa:\n",
    "        dctFastaMatch[chrId] = fa\n",
    "    else:\n",
    "        dctFastaMatch[chrId.split('_')[1].replace('v', '.')] = fa"
   ]
  },
  {
   "cell_type": "code",
   "execution_count": 4,
   "metadata": {},
   "outputs": [
    {
     "data": {
      "text/plain": [
       "'chr1_GL456210v1_random.fa'"
      ]
     },
     "execution_count": 4,
     "metadata": {},
     "output_type": "execute_result"
    }
   ],
   "source": [
    "# Validation\n",
    "dctFastaMatch['GL456210.1']"
   ]
  },
  {
   "cell_type": "code",
   "execution_count": 5,
   "metadata": {},
   "outputs": [],
   "source": [
    "del dctFastaMatch['chrM']"
   ]
  },
  {
   "cell_type": "markdown",
   "metadata": {},
   "source": [
    "## 2. Collect Putative Binding Sequences"
   ]
  },
  {
   "cell_type": "code",
   "execution_count": 6,
   "metadata": {
    "scrolled": false
   },
   "outputs": [],
   "source": [
    "def get_chr_binding_positions(chrId):\n",
    "    pileUp = pysam.AlignmentFile(CLIP_BAM_PATH).pileup(chrId)\n",
    "    lstBindingPositionsPos, lstBindingPositionsNeg = [], []\n",
    "    for col in pileUp:\n",
    "        bases = col.get_query_sequences()\n",
    "        basesPos = [base for base in bases if base.isupper()]\n",
    "        basesNeg = [base for base in bases if base.islower()]\n",
    "        if len(basesPos) >= 50:\n",
    "            cres = stats.entropy(list(Counter(bases).values()), base=2)\n",
    "            if cres >= 0.8:\n",
    "                lstBindingPositionsPos.append(col.reference_pos)\n",
    "        if len(basesNeg) >= 50:\n",
    "            cres = stats.entropy(list(Counter(bases).values()), base=2)\n",
    "            if cres >= 0.8:\n",
    "                lstBindingPositionsNeg.append(col.reference_pos)\n",
    "    return lstBindingPositionsPos, lstBindingPositionsNeg"
   ]
  },
  {
   "cell_type": "code",
   "execution_count": 7,
   "metadata": {},
   "outputs": [],
   "source": [
    "# Complement: A <--> T, G <--> C\n",
    "# Dictionary for the Unicode code point\n",
    "dctComplement = str.maketrans('ACGT', 'TGCA')"
   ]
  },
  {
   "cell_type": "code",
   "execution_count": 8,
   "metadata": {},
   "outputs": [],
   "source": [
    "def get_binding_sequences(chrId):\n",
    "    lstBindingPositionsPos, lstBindingPositionsNeg = get_chr_binding_positions(chrId)\n",
    "\n",
    "    FASTA_FILE_PATH = os.path.join(FASTA_DIR_PATH, dctFastaMatch[chrId])\n",
    "    with open(FASTA_FILE_PATH, 'rt') as fIn:\n",
    "        assert next(fIn).startswith('>') # Skip header\n",
    "        seq = fIn.read().strip().replace('\\n', '').upper() # Remove new line chr and make lowercase be uppercase\n",
    "\n",
    "    dctSeqs = Counter()\n",
    "    for pos in lstBindingPositionsPos:\n",
    "        dctSeqs.update([seq[pos-2:pos+4]])\n",
    "    for pos in lstBindingPositionsNeg:\n",
    "        hexamer = seq[pos-3:pos+3][::-1].translate(dctComplement)\n",
    "        dctSeqs.update([hexamer])\n",
    "    return dctSeqs"
   ]
  },
  {
   "cell_type": "code",
   "execution_count": 9,
   "metadata": {
    "collapsed": true
   },
   "outputs": [
    {
     "name": "stdout",
     "output_type": "stream",
     "text": [
      "Fri Jun  3 12:53:19 2022 --- chr10.fa now opens\n",
      "Fri Jun  3 12:55:34 2022 --- chr11.fa now opens\n",
      "Fri Jun  3 12:58:55 2022 --- chr12.fa now opens\n",
      "Fri Jun  3 13:00:48 2022 --- chr13.fa now opens\n",
      "Fri Jun  3 13:02:49 2022 --- chr14.fa now opens\n",
      "Fri Jun  3 13:04:36 2022 --- chr15.fa now opens\n",
      "Fri Jun  3 13:06:28 2022 --- chr16.fa now opens\n",
      "Fri Jun  3 13:07:58 2022 --- chr17.fa now opens\n",
      "Fri Jun  3 13:09:51 2022 --- chr18.fa now opens\n",
      "Fri Jun  3 13:11:09 2022 --- chr19.fa now opens\n",
      "Fri Jun  3 13:12:15 2022 --- chr1.fa now opens\n",
      "Fri Jun  3 13:16:29 2022 --- chr1_GL456210v1_random.fa now opens\n",
      "Fri Jun  3 13:16:29 2022 --- chr1_GL456211v1_random.fa now opens\n",
      "Fri Jun  3 13:16:30 2022 --- chr1_GL456212v1_random.fa now opens\n",
      "Fri Jun  3 13:16:30 2022 --- chr1_GL456221v1_random.fa now opens\n",
      "Fri Jun  3 13:16:30 2022 --- chr1_GL456239v1_random.fa now opens\n",
      "Fri Jun  3 13:16:30 2022 --- chr1_MU069434v1_random.fa now opens\n",
      "Fri Jun  3 13:16:30 2022 --- chr2.fa now opens\n",
      "Fri Jun  3 13:19:58 2022 --- chr3.fa now opens\n",
      "Fri Jun  3 13:22:26 2022 --- chr4.fa now opens\n",
      "Fri Jun  3 13:25:17 2022 --- chr4_JH584295v1_random.fa now opens\n",
      "Fri Jun  3 13:25:17 2022 --- chr5.fa now opens\n",
      "Fri Jun  3 13:28:03 2022 --- chr5_GL456354v1_random.fa now opens\n",
      "Fri Jun  3 13:28:03 2022 --- chr5_JH584296v1_random.fa now opens\n",
      "Fri Jun  3 13:28:03 2022 --- chr5_JH584297v1_random.fa now opens\n",
      "Fri Jun  3 13:28:03 2022 --- chr5_JH584298v1_random.fa now opens\n",
      "Fri Jun  3 13:28:03 2022 --- chr5_JH584299v1_random.fa now opens\n",
      "Fri Jun  3 13:28:03 2022 --- chr6.fa now opens\n",
      "Fri Jun  3 13:30:22 2022 --- chr7.fa now opens\n",
      "Fri Jun  3 13:32:34 2022 --- chr7_GL456219v1_random.fa now opens\n",
      "Fri Jun  3 13:32:34 2022 --- chr8.fa now opens\n",
      "Fri Jun  3 13:34:40 2022 --- chr9.fa now opens\n",
      "Fri Jun  3 13:36:54 2022 --- chrUn_GL456359v1.fa now opens\n",
      "Fri Jun  3 13:36:54 2022 --- chrUn_GL456360v1.fa now opens\n",
      "Fri Jun  3 13:36:54 2022 --- chrUn_GL456366v1.fa now opens\n",
      "Fri Jun  3 13:36:54 2022 --- chrUn_GL456367v1.fa now opens\n",
      "Fri Jun  3 13:36:54 2022 --- chrUn_GL456368v1.fa now opens\n",
      "Fri Jun  3 13:36:54 2022 --- chrUn_GL456370v1.fa now opens\n",
      "Fri Jun  3 13:36:54 2022 --- chrUn_GL456372v1.fa now opens\n",
      "Fri Jun  3 13:36:54 2022 --- chrUn_GL456378v1.fa now opens\n",
      "Fri Jun  3 13:36:54 2022 --- chrUn_GL456379v1.fa now opens\n",
      "Fri Jun  3 13:36:54 2022 --- chrUn_GL456381v1.fa now opens\n",
      "Fri Jun  3 13:36:54 2022 --- chrUn_GL456382v1.fa now opens\n",
      "Fri Jun  3 13:36:54 2022 --- chrUn_GL456383v1.fa now opens\n",
      "Fri Jun  3 13:36:54 2022 --- chrUn_GL456385v1.fa now opens\n",
      "Fri Jun  3 13:36:55 2022 --- chrUn_GL456387v1.fa now opens\n",
      "Fri Jun  3 13:36:55 2022 --- chrUn_GL456389v1.fa now opens\n",
      "Fri Jun  3 13:36:55 2022 --- chrUn_GL456390v1.fa now opens\n",
      "Fri Jun  3 13:36:55 2022 --- chrUn_GL456392v1.fa now opens\n",
      "Fri Jun  3 13:36:55 2022 --- chrUn_GL456394v1.fa now opens\n",
      "Fri Jun  3 13:36:55 2022 --- chrUn_GL456396v1.fa now opens\n",
      "Fri Jun  3 13:36:55 2022 --- chrUn_JH584304v1.fa now opens\n",
      "Fri Jun  3 13:36:55 2022 --- chrUn_MU069435v1.fa now opens\n",
      "Fri Jun  3 13:36:55 2022 --- chrX.fa now opens\n",
      "Fri Jun  3 13:38:54 2022 --- chrX_GL456233v2_random.fa now opens\n",
      "Fri Jun  3 13:38:55 2022 --- chrY.fa now opens\n",
      "Fri Jun  3 13:39:07 2022 --- chrY_JH584300v1_random.fa now opens\n",
      "Fri Jun  3 13:39:07 2022 --- chrY_JH584301v1_random.fa now opens\n",
      "Fri Jun  3 13:39:07 2022 --- chrY_JH584302v1_random.fa now opens\n",
      "Fri Jun  3 13:39:07 2022 --- chrY_JH584303v1_random.fa now opens\n"
     ]
    }
   ],
   "source": [
    "dctSeqs = Counter()\n",
    "for chrId, fa in dctFastaMatch.items():\n",
    "    print(time.ctime(), f'{fa} now opens', sep=' --- ')\n",
    "    dctSeqs.update(get_binding_sequences(chrId))"
   ]
  },
  {
   "cell_type": "code",
   "execution_count": 10,
   "metadata": {},
   "outputs": [
    {
     "data": {
      "text/plain": [
       "[('AAGGAG', 1108),\n",
       " ('AAGAAG', 988),\n",
       " ('AAGAGA', 833),\n",
       " ('GAGGAG', 824),\n",
       " ('TGGAGA', 680),\n",
       " ('AAGAGG', 680),\n",
       " ('AGGAGA', 611),\n",
       " ('GAGAAG', 607),\n",
       " ('GAGAGA', 571),\n",
       " ('AAGGTG', 571),\n",
       " ('AAGATG', 563),\n",
       " ('AGGAAG', 503),\n",
       " ('AGGAGG', 476),\n",
       " ('AAGAAA', 454),\n",
       " ('CAGAGA', 452),\n",
       " ('ATGGAG', 438),\n",
       " ('CTGGAG', 426),\n",
       " ('ATGAGA', 412),\n",
       " ('CAGAGG', 408),\n",
       " ('AAGAGT', 395)]"
      ]
     },
     "execution_count": 10,
     "metadata": {},
     "output_type": "execute_result"
    }
   ],
   "source": [
    "dctSeqs.most_common(20)"
   ]
  },
  {
   "cell_type": "code",
   "execution_count": 11,
   "metadata": {},
   "outputs": [
    {
     "data": {
      "text/html": [
       "<div>\n",
       "<style scoped>\n",
       "    .dataframe tbody tr th:only-of-type {\n",
       "        vertical-align: middle;\n",
       "    }\n",
       "\n",
       "    .dataframe tbody tr th {\n",
       "        vertical-align: top;\n",
       "    }\n",
       "\n",
       "    .dataframe thead th {\n",
       "        text-align: right;\n",
       "    }\n",
       "</style>\n",
       "<table border=\"1\" class=\"dataframe\">\n",
       "  <thead>\n",
       "    <tr style=\"text-align: right;\">\n",
       "      <th></th>\n",
       "      <th>counts</th>\n",
       "    </tr>\n",
       "    <tr>\n",
       "      <th>hexamer</th>\n",
       "      <th></th>\n",
       "    </tr>\n",
       "  </thead>\n",
       "  <tbody>\n",
       "    <tr>\n",
       "      <th>AAGGAG</th>\n",
       "      <td>1108</td>\n",
       "    </tr>\n",
       "    <tr>\n",
       "      <th>AAGAAG</th>\n",
       "      <td>988</td>\n",
       "    </tr>\n",
       "    <tr>\n",
       "      <th>AAGAGA</th>\n",
       "      <td>833</td>\n",
       "    </tr>\n",
       "    <tr>\n",
       "      <th>GAGGAG</th>\n",
       "      <td>824</td>\n",
       "    </tr>\n",
       "    <tr>\n",
       "      <th>TGGAGA</th>\n",
       "      <td>680</td>\n",
       "    </tr>\n",
       "  </tbody>\n",
       "</table>\n",
       "</div>"
      ],
      "text/plain": [
       "         counts\n",
       "hexamer        \n",
       "AAGGAG     1108\n",
       "AAGAAG      988\n",
       "AAGAGA      833\n",
       "GAGGAG      824\n",
       "TGGAGA      680"
      ]
     },
     "execution_count": 11,
     "metadata": {},
     "output_type": "execute_result"
    }
   ],
   "source": [
    "dfHexamers = pd.DataFrame(dctSeqs.most_common(), columns=['hexamer', 'counts']).set_index('hexamer')\n",
    "dfHexamers.head()"
   ]
  },
  {
   "cell_type": "code",
   "execution_count": 12,
   "metadata": {},
   "outputs": [],
   "source": [
    "dfHexamers.to_csv('../stats/hexamers.txt', sep='\\t')"
   ]
  },
  {
   "cell_type": "code",
   "execution_count": null,
   "metadata": {},
   "outputs": [],
   "source": []
  }
 ],
 "metadata": {
  "kernelspec": {
   "display_name": "Python 3",
   "language": "python",
   "name": "python3"
  },
  "language_info": {
   "codemirror_mode": {
    "name": "ipython",
    "version": 3
   },
   "file_extension": ".py",
   "mimetype": "text/x-python",
   "name": "python",
   "nbconvert_exporter": "python",
   "pygments_lexer": "ipython3",
   "version": "3.6.7"
  }
 },
 "nbformat": 4,
 "nbformat_minor": 2
}
