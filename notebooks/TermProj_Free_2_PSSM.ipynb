{
 "cells": [
  {
   "cell_type": "markdown",
   "metadata": {},
   "source": [
    "# 생물정보학 및 실습 1 - Term Project (Free Analysis) 2/3\n",
    "생물정보학 및 실습 1   \n",
    "서울대학교 협동과정 생물정보학전공 2022년 1학기"
   ]
  },
  {
   "cell_type": "code",
   "execution_count": 241,
   "metadata": {},
   "outputs": [],
   "source": [
    "from collections import Counter, defaultdict\n",
    "from itertools import combinations, product\n",
    "import math\n",
    "import os\n",
    "import sys\n",
    "import pickle\n",
    "import time\n",
    "\n",
    "import numpy as np\n",
    "import pandas as pd\n",
    "from matplotlib import pyplot as plt\n",
    "import seaborn as sns\n",
    "from scipy import stats\n",
    "import pysam\n",
    "import networkx as nx\n",
    "from Bio import SeqIO"
   ]
  },
  {
   "cell_type": "markdown",
   "metadata": {},
   "source": [
    "## 1. Load Dataset and Denoise"
   ]
  },
  {
   "cell_type": "code",
   "execution_count": 2,
   "metadata": {},
   "outputs": [
    {
     "data": {
      "text/html": [
       "<div>\n",
       "<style scoped>\n",
       "    .dataframe tbody tr th:only-of-type {\n",
       "        vertical-align: middle;\n",
       "    }\n",
       "\n",
       "    .dataframe tbody tr th {\n",
       "        vertical-align: top;\n",
       "    }\n",
       "\n",
       "    .dataframe thead th {\n",
       "        text-align: right;\n",
       "    }\n",
       "</style>\n",
       "<table border=\"1\" class=\"dataframe\">\n",
       "  <thead>\n",
       "    <tr style=\"text-align: right;\">\n",
       "      <th></th>\n",
       "      <th>octadecamer</th>\n",
       "      <th>counts</th>\n",
       "    </tr>\n",
       "  </thead>\n",
       "  <tbody>\n",
       "    <tr>\n",
       "      <th>0</th>\n",
       "      <td>GTGGGTAAGAGCACCCGA</td>\n",
       "      <td>18</td>\n",
       "    </tr>\n",
       "    <tr>\n",
       "      <th>1</th>\n",
       "      <td>CTTCTGGAGTGTCTGAAG</td>\n",
       "      <td>14</td>\n",
       "    </tr>\n",
       "    <tr>\n",
       "      <th>2</th>\n",
       "      <td>AAAAAAAAAAAAAAAAAA</td>\n",
       "      <td>14</td>\n",
       "    </tr>\n",
       "    <tr>\n",
       "      <th>3</th>\n",
       "      <td>CATAATTTGTGGTAGTGG</td>\n",
       "      <td>11</td>\n",
       "    </tr>\n",
       "    <tr>\n",
       "      <th>4</th>\n",
       "      <td>TTTTTTTTTTTTTTTTTT</td>\n",
       "      <td>8</td>\n",
       "    </tr>\n",
       "    <tr>\n",
       "      <th>...</th>\n",
       "      <td>...</td>\n",
       "      <td>...</td>\n",
       "    </tr>\n",
       "    <tr>\n",
       "      <th>24724</th>\n",
       "      <td>AGTAATTTGTGCGGGTTT</td>\n",
       "      <td>1</td>\n",
       "    </tr>\n",
       "    <tr>\n",
       "      <th>24725</th>\n",
       "      <td>GGTCAAGAGAGTATGAAC</td>\n",
       "      <td>1</td>\n",
       "    </tr>\n",
       "    <tr>\n",
       "      <th>24726</th>\n",
       "      <td>ACAGAGCAGTGGTTCTGC</td>\n",
       "      <td>1</td>\n",
       "    </tr>\n",
       "    <tr>\n",
       "      <th>24727</th>\n",
       "      <td>CTTAGAACGTGGATGCCA</td>\n",
       "      <td>1</td>\n",
       "    </tr>\n",
       "    <tr>\n",
       "      <th>24728</th>\n",
       "      <td>CAGTTCAGGATGGAGCTG</td>\n",
       "      <td>1</td>\n",
       "    </tr>\n",
       "  </tbody>\n",
       "</table>\n",
       "<p>24729 rows × 2 columns</p>\n",
       "</div>"
      ],
      "text/plain": [
       "              octadecamer  counts\n",
       "0      GTGGGTAAGAGCACCCGA      18\n",
       "1      CTTCTGGAGTGTCTGAAG      14\n",
       "2      AAAAAAAAAAAAAAAAAA      14\n",
       "3      CATAATTTGTGGTAGTGG      11\n",
       "4      TTTTTTTTTTTTTTTTTT       8\n",
       "...                   ...     ...\n",
       "24724  AGTAATTTGTGCGGGTTT       1\n",
       "24725  GGTCAAGAGAGTATGAAC       1\n",
       "24726  ACAGAGCAGTGGTTCTGC       1\n",
       "24727  CTTAGAACGTGGATGCCA       1\n",
       "24728  CAGTTCAGGATGGAGCTG       1\n",
       "\n",
       "[24729 rows x 2 columns]"
      ]
     },
     "execution_count": 2,
     "metadata": {},
     "output_type": "execute_result"
    }
   ],
   "source": [
    "dfOctadecamers = pd.read_table('../stats/octadecamers.txt')\n",
    "dfOctadecamers"
   ]
  },
  {
   "cell_type": "code",
   "execution_count": 3,
   "metadata": {},
   "outputs": [
    {
     "data": {
      "text/html": [
       "<div>\n",
       "<style scoped>\n",
       "    .dataframe tbody tr th:only-of-type {\n",
       "        vertical-align: middle;\n",
       "    }\n",
       "\n",
       "    .dataframe tbody tr th {\n",
       "        vertical-align: top;\n",
       "    }\n",
       "\n",
       "    .dataframe thead th {\n",
       "        text-align: right;\n",
       "    }\n",
       "</style>\n",
       "<table border=\"1\" class=\"dataframe\">\n",
       "  <thead>\n",
       "    <tr style=\"text-align: right;\">\n",
       "      <th></th>\n",
       "      <th>octadecamer</th>\n",
       "      <th>counts</th>\n",
       "    </tr>\n",
       "  </thead>\n",
       "  <tbody>\n",
       "    <tr>\n",
       "      <th>0</th>\n",
       "      <td>GTGGGTAAGAGCACCCGA</td>\n",
       "      <td>18</td>\n",
       "    </tr>\n",
       "    <tr>\n",
       "      <th>1</th>\n",
       "      <td>CTTCTGGAGTGTCTGAAG</td>\n",
       "      <td>14</td>\n",
       "    </tr>\n",
       "    <tr>\n",
       "      <th>2</th>\n",
       "      <td>CATAATTTGTGGTAGTGG</td>\n",
       "      <td>11</td>\n",
       "    </tr>\n",
       "    <tr>\n",
       "      <th>3</th>\n",
       "      <td>AAATATAAGAGTTCGGTT</td>\n",
       "      <td>5</td>\n",
       "    </tr>\n",
       "    <tr>\n",
       "      <th>4</th>\n",
       "      <td>CTTCTGGTGTGTCTGAAG</td>\n",
       "      <td>5</td>\n",
       "    </tr>\n",
       "    <tr>\n",
       "      <th>...</th>\n",
       "      <td>...</td>\n",
       "      <td>...</td>\n",
       "    </tr>\n",
       "    <tr>\n",
       "      <th>22844</th>\n",
       "      <td>AGTAATTTGTGCGGGTTT</td>\n",
       "      <td>1</td>\n",
       "    </tr>\n",
       "    <tr>\n",
       "      <th>22845</th>\n",
       "      <td>GGTCAAGAGAGTATGAAC</td>\n",
       "      <td>1</td>\n",
       "    </tr>\n",
       "    <tr>\n",
       "      <th>22846</th>\n",
       "      <td>ACAGAGCAGTGGTTCTGC</td>\n",
       "      <td>1</td>\n",
       "    </tr>\n",
       "    <tr>\n",
       "      <th>22847</th>\n",
       "      <td>CTTAGAACGTGGATGCCA</td>\n",
       "      <td>1</td>\n",
       "    </tr>\n",
       "    <tr>\n",
       "      <th>22848</th>\n",
       "      <td>CAGTTCAGGATGGAGCTG</td>\n",
       "      <td>1</td>\n",
       "    </tr>\n",
       "  </tbody>\n",
       "</table>\n",
       "<p>22849 rows × 2 columns</p>\n",
       "</div>"
      ],
      "text/plain": [
       "              octadecamer  counts\n",
       "0      GTGGGTAAGAGCACCCGA      18\n",
       "1      CTTCTGGAGTGTCTGAAG      14\n",
       "2      CATAATTTGTGGTAGTGG      11\n",
       "3      AAATATAAGAGTTCGGTT       5\n",
       "4      CTTCTGGTGTGTCTGAAG       5\n",
       "...                   ...     ...\n",
       "22844  AGTAATTTGTGCGGGTTT       1\n",
       "22845  GGTCAAGAGAGTATGAAC       1\n",
       "22846  ACAGAGCAGTGGTTCTGC       1\n",
       "22847  CTTAGAACGTGGATGCCA       1\n",
       "22848  CAGTTCAGGATGGAGCTG       1\n",
       "\n",
       "[22849 rows x 2 columns]"
      ]
     },
     "execution_count": 3,
     "metadata": {},
     "output_type": "execute_result"
    }
   ],
   "source": [
    "dfOctadecamers = dfOctadecamers[dfOctadecamers.octadecamer.str[8] == 'G'].reset_index(drop=True)\n",
    "dfOctadecamers"
   ]
  },
  {
   "cell_type": "code",
   "execution_count": 4,
   "metadata": {},
   "outputs": [
    {
     "data": {
      "text/html": [
       "<div>\n",
       "<style scoped>\n",
       "    .dataframe tbody tr th:only-of-type {\n",
       "        vertical-align: middle;\n",
       "    }\n",
       "\n",
       "    .dataframe tbody tr th {\n",
       "        vertical-align: top;\n",
       "    }\n",
       "\n",
       "    .dataframe thead th {\n",
       "        text-align: right;\n",
       "    }\n",
       "</style>\n",
       "<table border=\"1\" class=\"dataframe\">\n",
       "  <thead>\n",
       "    <tr style=\"text-align: right;\">\n",
       "      <th></th>\n",
       "      <th>octadecamer</th>\n",
       "      <th>counts</th>\n",
       "      <th>hexamer</th>\n",
       "    </tr>\n",
       "  </thead>\n",
       "  <tbody>\n",
       "    <tr>\n",
       "      <th>0</th>\n",
       "      <td>GTGGGTAAGAGCACCCGA</td>\n",
       "      <td>18</td>\n",
       "      <td>AAGAGC</td>\n",
       "    </tr>\n",
       "    <tr>\n",
       "      <th>1</th>\n",
       "      <td>CTTCTGGAGTGTCTGAAG</td>\n",
       "      <td>14</td>\n",
       "      <td>GAGTGT</td>\n",
       "    </tr>\n",
       "    <tr>\n",
       "      <th>2</th>\n",
       "      <td>CATAATTTGTGGTAGTGG</td>\n",
       "      <td>11</td>\n",
       "      <td>TTGTGG</td>\n",
       "    </tr>\n",
       "    <tr>\n",
       "      <th>3</th>\n",
       "      <td>AAATATAAGAGTTCGGTT</td>\n",
       "      <td>5</td>\n",
       "      <td>AAGAGT</td>\n",
       "    </tr>\n",
       "    <tr>\n",
       "      <th>4</th>\n",
       "      <td>CTTCTGGTGTGTCTGAAG</td>\n",
       "      <td>5</td>\n",
       "      <td>GTGTGT</td>\n",
       "    </tr>\n",
       "    <tr>\n",
       "      <th>...</th>\n",
       "      <td>...</td>\n",
       "      <td>...</td>\n",
       "      <td>...</td>\n",
       "    </tr>\n",
       "    <tr>\n",
       "      <th>22844</th>\n",
       "      <td>AGTAATTTGTGCGGGTTT</td>\n",
       "      <td>1</td>\n",
       "      <td>TTGTGC</td>\n",
       "    </tr>\n",
       "    <tr>\n",
       "      <th>22845</th>\n",
       "      <td>GGTCAAGAGAGTATGAAC</td>\n",
       "      <td>1</td>\n",
       "      <td>GAGAGT</td>\n",
       "    </tr>\n",
       "    <tr>\n",
       "      <th>22846</th>\n",
       "      <td>ACAGAGCAGTGGTTCTGC</td>\n",
       "      <td>1</td>\n",
       "      <td>CAGTGG</td>\n",
       "    </tr>\n",
       "    <tr>\n",
       "      <th>22847</th>\n",
       "      <td>CTTAGAACGTGGATGCCA</td>\n",
       "      <td>1</td>\n",
       "      <td>ACGTGG</td>\n",
       "    </tr>\n",
       "    <tr>\n",
       "      <th>22848</th>\n",
       "      <td>CAGTTCAGGATGGAGCTG</td>\n",
       "      <td>1</td>\n",
       "      <td>AGGATG</td>\n",
       "    </tr>\n",
       "  </tbody>\n",
       "</table>\n",
       "<p>22849 rows × 3 columns</p>\n",
       "</div>"
      ],
      "text/plain": [
       "              octadecamer  counts hexamer\n",
       "0      GTGGGTAAGAGCACCCGA      18  AAGAGC\n",
       "1      CTTCTGGAGTGTCTGAAG      14  GAGTGT\n",
       "2      CATAATTTGTGGTAGTGG      11  TTGTGG\n",
       "3      AAATATAAGAGTTCGGTT       5  AAGAGT\n",
       "4      CTTCTGGTGTGTCTGAAG       5  GTGTGT\n",
       "...                   ...     ...     ...\n",
       "22844  AGTAATTTGTGCGGGTTT       1  TTGTGC\n",
       "22845  GGTCAAGAGAGTATGAAC       1  GAGAGT\n",
       "22846  ACAGAGCAGTGGTTCTGC       1  CAGTGG\n",
       "22847  CTTAGAACGTGGATGCCA       1  ACGTGG\n",
       "22848  CAGTTCAGGATGGAGCTG       1  AGGATG\n",
       "\n",
       "[22849 rows x 3 columns]"
      ]
     },
     "execution_count": 4,
     "metadata": {},
     "output_type": "execute_result"
    }
   ],
   "source": [
    "dfOctadecamers['hexamer'] = dfOctadecamers.octadecamer.str[6:12]\n",
    "dfOctadecamers"
   ]
  },
  {
   "cell_type": "code",
   "execution_count": 15,
   "metadata": {},
   "outputs": [],
   "source": [
    "ENRICH_CUTOFF = 10"
   ]
  },
  {
   "cell_type": "code",
   "execution_count": 16,
   "metadata": {},
   "outputs": [
    {
     "data": {
      "text/html": [
       "<div>\n",
       "<style scoped>\n",
       "    .dataframe tbody tr th:only-of-type {\n",
       "        vertical-align: middle;\n",
       "    }\n",
       "\n",
       "    .dataframe tbody tr th {\n",
       "        vertical-align: top;\n",
       "    }\n",
       "\n",
       "    .dataframe thead th {\n",
       "        text-align: right;\n",
       "    }\n",
       "</style>\n",
       "<table border=\"1\" class=\"dataframe\">\n",
       "  <thead>\n",
       "    <tr style=\"text-align: right;\">\n",
       "      <th></th>\n",
       "      <th>counts</th>\n",
       "    </tr>\n",
       "    <tr>\n",
       "      <th>hexamer</th>\n",
       "      <th></th>\n",
       "    </tr>\n",
       "  </thead>\n",
       "  <tbody>\n",
       "    <tr>\n",
       "      <th>AAGGAG</th>\n",
       "      <td>591</td>\n",
       "    </tr>\n",
       "    <tr>\n",
       "      <th>AAGAAG</th>\n",
       "      <td>426</td>\n",
       "    </tr>\n",
       "    <tr>\n",
       "      <th>AAGAGA</th>\n",
       "      <td>368</td>\n",
       "    </tr>\n",
       "    <tr>\n",
       "      <th>AAGAGG</th>\n",
       "      <td>363</td>\n",
       "    </tr>\n",
       "    <tr>\n",
       "      <th>GAGGAG</th>\n",
       "      <td>354</td>\n",
       "    </tr>\n",
       "    <tr>\n",
       "      <th>...</th>\n",
       "      <td>...</td>\n",
       "    </tr>\n",
       "    <tr>\n",
       "      <th>TTGCGC</th>\n",
       "      <td>10</td>\n",
       "    </tr>\n",
       "    <tr>\n",
       "      <th>CGGGGG</th>\n",
       "      <td>10</td>\n",
       "    </tr>\n",
       "    <tr>\n",
       "      <th>GGGGAT</th>\n",
       "      <td>10</td>\n",
       "    </tr>\n",
       "    <tr>\n",
       "      <th>GGGGAA</th>\n",
       "      <td>10</td>\n",
       "    </tr>\n",
       "    <tr>\n",
       "      <th>GAGGTC</th>\n",
       "      <td>10</td>\n",
       "    </tr>\n",
       "  </tbody>\n",
       "</table>\n",
       "<p>409 rows × 1 columns</p>\n",
       "</div>"
      ],
      "text/plain": [
       "         counts\n",
       "hexamer        \n",
       "AAGGAG      591\n",
       "AAGAAG      426\n",
       "AAGAGA      368\n",
       "AAGAGG      363\n",
       "GAGGAG      354\n",
       "...         ...\n",
       "TTGCGC       10\n",
       "CGGGGG       10\n",
       "GGGGAT       10\n",
       "GGGGAA       10\n",
       "GAGGTC       10\n",
       "\n",
       "[409 rows x 1 columns]"
      ]
     },
     "execution_count": 16,
     "metadata": {},
     "output_type": "execute_result"
    }
   ],
   "source": [
    "dfHexamers = dfOctadecamers.groupby('hexamer').sum().sort_values('counts', ascending=False)\n",
    "dfHexamers = dfHexamers[dfHexamers.counts >= ENRICH_CUTOFF]\n",
    "dfHexamers"
   ]
  },
  {
   "cell_type": "markdown",
   "metadata": {},
   "source": [
    "## 2. Make PSSM"
   ]
  },
  {
   "cell_type": "code",
   "execution_count": 39,
   "metadata": {},
   "outputs": [
    {
     "data": {
      "text/html": [
       "<div>\n",
       "<style scoped>\n",
       "    .dataframe tbody tr th:only-of-type {\n",
       "        vertical-align: middle;\n",
       "    }\n",
       "\n",
       "    .dataframe tbody tr th {\n",
       "        vertical-align: top;\n",
       "    }\n",
       "\n",
       "    .dataframe thead th {\n",
       "        text-align: right;\n",
       "    }\n",
       "</style>\n",
       "<table border=\"1\" class=\"dataframe\">\n",
       "  <thead>\n",
       "    <tr style=\"text-align: right;\">\n",
       "      <th></th>\n",
       "      <th>hexamer</th>\n",
       "      <th>counts</th>\n",
       "      <th>0</th>\n",
       "      <th>1</th>\n",
       "      <th>2</th>\n",
       "      <th>3</th>\n",
       "      <th>4</th>\n",
       "      <th>5</th>\n",
       "    </tr>\n",
       "  </thead>\n",
       "  <tbody>\n",
       "    <tr>\n",
       "      <th>0</th>\n",
       "      <td>AAGGAG</td>\n",
       "      <td>591</td>\n",
       "      <td>0</td>\n",
       "      <td>0</td>\n",
       "      <td>2</td>\n",
       "      <td>2</td>\n",
       "      <td>0</td>\n",
       "      <td>2</td>\n",
       "    </tr>\n",
       "    <tr>\n",
       "      <th>1</th>\n",
       "      <td>AAGAAG</td>\n",
       "      <td>426</td>\n",
       "      <td>0</td>\n",
       "      <td>0</td>\n",
       "      <td>2</td>\n",
       "      <td>0</td>\n",
       "      <td>0</td>\n",
       "      <td>2</td>\n",
       "    </tr>\n",
       "    <tr>\n",
       "      <th>2</th>\n",
       "      <td>AAGAGA</td>\n",
       "      <td>368</td>\n",
       "      <td>0</td>\n",
       "      <td>0</td>\n",
       "      <td>2</td>\n",
       "      <td>0</td>\n",
       "      <td>2</td>\n",
       "      <td>0</td>\n",
       "    </tr>\n",
       "    <tr>\n",
       "      <th>3</th>\n",
       "      <td>AAGAGG</td>\n",
       "      <td>363</td>\n",
       "      <td>0</td>\n",
       "      <td>0</td>\n",
       "      <td>2</td>\n",
       "      <td>0</td>\n",
       "      <td>2</td>\n",
       "      <td>2</td>\n",
       "    </tr>\n",
       "    <tr>\n",
       "      <th>4</th>\n",
       "      <td>GAGGAG</td>\n",
       "      <td>354</td>\n",
       "      <td>2</td>\n",
       "      <td>0</td>\n",
       "      <td>2</td>\n",
       "      <td>2</td>\n",
       "      <td>0</td>\n",
       "      <td>2</td>\n",
       "    </tr>\n",
       "    <tr>\n",
       "      <th>...</th>\n",
       "      <td>...</td>\n",
       "      <td>...</td>\n",
       "      <td>...</td>\n",
       "      <td>...</td>\n",
       "      <td>...</td>\n",
       "      <td>...</td>\n",
       "      <td>...</td>\n",
       "      <td>...</td>\n",
       "    </tr>\n",
       "    <tr>\n",
       "      <th>404</th>\n",
       "      <td>TTGCGC</td>\n",
       "      <td>10</td>\n",
       "      <td>3</td>\n",
       "      <td>3</td>\n",
       "      <td>2</td>\n",
       "      <td>1</td>\n",
       "      <td>2</td>\n",
       "      <td>1</td>\n",
       "    </tr>\n",
       "    <tr>\n",
       "      <th>405</th>\n",
       "      <td>CGGGGG</td>\n",
       "      <td>10</td>\n",
       "      <td>1</td>\n",
       "      <td>2</td>\n",
       "      <td>2</td>\n",
       "      <td>2</td>\n",
       "      <td>2</td>\n",
       "      <td>2</td>\n",
       "    </tr>\n",
       "    <tr>\n",
       "      <th>406</th>\n",
       "      <td>GGGGAT</td>\n",
       "      <td>10</td>\n",
       "      <td>2</td>\n",
       "      <td>2</td>\n",
       "      <td>2</td>\n",
       "      <td>2</td>\n",
       "      <td>0</td>\n",
       "      <td>3</td>\n",
       "    </tr>\n",
       "    <tr>\n",
       "      <th>407</th>\n",
       "      <td>GGGGAA</td>\n",
       "      <td>10</td>\n",
       "      <td>2</td>\n",
       "      <td>2</td>\n",
       "      <td>2</td>\n",
       "      <td>2</td>\n",
       "      <td>0</td>\n",
       "      <td>0</td>\n",
       "    </tr>\n",
       "    <tr>\n",
       "      <th>408</th>\n",
       "      <td>GAGGTC</td>\n",
       "      <td>10</td>\n",
       "      <td>2</td>\n",
       "      <td>0</td>\n",
       "      <td>2</td>\n",
       "      <td>2</td>\n",
       "      <td>3</td>\n",
       "      <td>1</td>\n",
       "    </tr>\n",
       "  </tbody>\n",
       "</table>\n",
       "<p>409 rows × 8 columns</p>\n",
       "</div>"
      ],
      "text/plain": [
       "    hexamer  counts  0  1  2  3  4  5\n",
       "0    AAGGAG     591  0  0  2  2  0  2\n",
       "1    AAGAAG     426  0  0  2  0  0  2\n",
       "2    AAGAGA     368  0  0  2  0  2  0\n",
       "3    AAGAGG     363  0  0  2  0  2  2\n",
       "4    GAGGAG     354  2  0  2  2  0  2\n",
       "..      ...     ... .. .. .. .. .. ..\n",
       "404  TTGCGC      10  3  3  2  1  2  1\n",
       "405  CGGGGG      10  1  2  2  2  2  2\n",
       "406  GGGGAT      10  2  2  2  2  0  3\n",
       "407  GGGGAA      10  2  2  2  2  0  0\n",
       "408  GAGGTC      10  2  0  2  2  3  1\n",
       "\n",
       "[409 rows x 8 columns]"
      ]
     },
     "execution_count": 39,
     "metadata": {},
     "output_type": "execute_result"
    }
   ],
   "source": [
    "dctEncoding = {'A':0, 'C':1, 'G':2, 'T':3}\n",
    "for i in range(6):\n",
    "    dfHexamers[f'{i}'] = dfHexamers.index.to_series().str.get(i).apply(lambda x: dctEncoding[x])\n",
    "dfHexamers.reset_index(drop=False, inplace=True)\n",
    "dfHexamers"
   ]
  },
  {
   "cell_type": "code",
   "execution_count": 47,
   "metadata": {},
   "outputs": [
    {
     "data": {
      "text/plain": [
       "array([[ 9015,  9481,     0,  8555,  5427,  5410],\n",
       "       [ 3615,  1201,     0,  1402,   589,  1781],\n",
       "       [ 4205,  4290, 21274,  6968, 12031, 10712],\n",
       "       [ 4439,  6302,     0,  4349,  3227,  3371]])"
      ]
     },
     "execution_count": 47,
     "metadata": {},
     "output_type": "execute_result"
    }
   ],
   "source": [
    "arrPfm = np.zeros((4, 6), dtype=np.int64)\n",
    "\n",
    "for idx in range(len(dfHexamers)):\n",
    "    for j in range(6):\n",
    "        i = dfHexamers.loc[idx, f'{j}']\n",
    "        arrPfm[i, j] += dfHexamers.loc[idx, 'counts']\n",
    "arrPfm"
   ]
  },
  {
   "cell_type": "code",
   "execution_count": 210,
   "metadata": {},
   "outputs": [
    {
     "name": "stdout",
     "output_type": "stream",
     "text": [
      "[[0.4237567  0.44566137 0.         0.40213406 0.25510012 0.25430102]\n",
      " [0.16992573 0.05645389 0.         0.06590204 0.02768638 0.08371721]\n",
      " [0.19765911 0.2016546  1.         0.32753596 0.56552599 0.50352543]\n",
      " [0.20865846 0.29623014 0.         0.20442794 0.15168751 0.15845633]]\n"
     ]
    }
   ],
   "source": [
    "arrPpm = arrPfm / arrPfm.sum(axis=0)\n",
    "print(arrPpm)"
   ]
  },
  {
   "cell_type": "code",
   "execution_count": 200,
   "metadata": {},
   "outputs": [],
   "source": [
    "dctMonoNucs = Counter()\n",
    "iterFa = SeqIO.parse('../data/fa/gencode.vM28.transcripts.fa', format='fasta')\n",
    "for seq in iterFa:\n",
    "    sGeneId = seq.name.split('|')[1]\n",
    "    sSeq = str(seq.seq).upper()\n",
    "    dctMonoNucs.update(sSeq)"
   ]
  },
  {
   "cell_type": "code",
   "execution_count": 205,
   "metadata": {},
   "outputs": [
    {
     "data": {
      "text/plain": [
       "array([63706005, 58223783, 59183257, 61055252])"
      ]
     },
     "execution_count": 205,
     "metadata": {},
     "output_type": "execute_result"
    }
   ],
   "source": [
    "arrBgCounts = np.array([\n",
    "    dctMonoNucs['A'],\n",
    "    dctMonoNucs['C'],\n",
    "    dctMonoNucs['G'],\n",
    "    dctMonoNucs['T']\n",
    "])\n",
    "arrBgCounts"
   ]
  },
  {
   "cell_type": "code",
   "execution_count": 207,
   "metadata": {},
   "outputs": [
    {
     "data": {
      "text/plain": [
       "array([0.26306501, 0.24042694, 0.24438895, 0.2521191 ])"
      ]
     },
     "execution_count": 207,
     "metadata": {},
     "output_type": "execute_result"
    }
   ],
   "source": [
    "arrBgFreq = arrBgCounts / arrBgCounts.sum()\n",
    "arrBgFreq"
   ]
  },
  {
   "cell_type": "code",
   "execution_count": 219,
   "metadata": {},
   "outputs": [
    {
     "name": "stdout",
     "output_type": "stream",
     "text": [
      "[[2.43621137 2.45823839 1.92650874 2.41413303 2.25431119 2.25339236]\n",
      " [2.28274647 2.13555932 2.05632953 2.14840438 2.09572959 2.17231787]\n",
      " [2.29296635 2.29777128 3.03274901 2.44149995 2.67939647 2.62109828]\n",
      " [2.26122933 2.36214459 1.9878227  2.25617078 2.19157202 2.20002637]]\n"
     ]
    }
   ],
   "source": [
    "arrPssm = np.log2(arrPpm + 1) - np.log2([list(arrBgFreq),] * 6).T\n",
    "print(arrPssm)"
   ]
  },
  {
   "cell_type": "code",
   "execution_count": null,
   "metadata": {},
   "outputs": [],
   "source": []
  },
  {
   "cell_type": "markdown",
   "metadata": {},
   "source": [
    "## 3. Network\n",
    "Draw it only using Top 30 hexamers"
   ]
  },
  {
   "cell_type": "code",
   "execution_count": 92,
   "metadata": {},
   "outputs": [
    {
     "data": {
      "text/html": [
       "<div>\n",
       "<style scoped>\n",
       "    .dataframe tbody tr th:only-of-type {\n",
       "        vertical-align: middle;\n",
       "    }\n",
       "\n",
       "    .dataframe tbody tr th {\n",
       "        vertical-align: top;\n",
       "    }\n",
       "\n",
       "    .dataframe thead th {\n",
       "        text-align: right;\n",
       "    }\n",
       "</style>\n",
       "<table border=\"1\" class=\"dataframe\">\n",
       "  <thead>\n",
       "    <tr style=\"text-align: right;\">\n",
       "      <th></th>\n",
       "      <th>hexamer</th>\n",
       "      <th>counts</th>\n",
       "    </tr>\n",
       "  </thead>\n",
       "  <tbody>\n",
       "    <tr>\n",
       "      <th>0</th>\n",
       "      <td>AAGGAG</td>\n",
       "      <td>591</td>\n",
       "    </tr>\n",
       "    <tr>\n",
       "      <th>1</th>\n",
       "      <td>AAGAAG</td>\n",
       "      <td>426</td>\n",
       "    </tr>\n",
       "    <tr>\n",
       "      <th>2</th>\n",
       "      <td>AAGAGA</td>\n",
       "      <td>368</td>\n",
       "    </tr>\n",
       "    <tr>\n",
       "      <th>3</th>\n",
       "      <td>AAGAGG</td>\n",
       "      <td>363</td>\n",
       "    </tr>\n",
       "    <tr>\n",
       "      <th>4</th>\n",
       "      <td>GAGGAG</td>\n",
       "      <td>354</td>\n",
       "    </tr>\n",
       "  </tbody>\n",
       "</table>\n",
       "</div>"
      ],
      "text/plain": [
       "  hexamer  counts\n",
       "0  AAGGAG     591\n",
       "1  AAGAAG     426\n",
       "2  AAGAGA     368\n",
       "3  AAGAGG     363\n",
       "4  GAGGAG     354"
      ]
     },
     "execution_count": 92,
     "metadata": {},
     "output_type": "execute_result"
    }
   ],
   "source": [
    "dfNodes = dfHexamers[['hexamer', 'counts']].head(20).copy()\n",
    "dfNodes.head()"
   ]
  },
  {
   "cell_type": "code",
   "execution_count": 93,
   "metadata": {},
   "outputs": [
    {
     "data": {
      "text/plain": [
       "['AAGGAG', 'AAGAAG', 'AAGAGA', 'AAGAGG', 'GAGGAG']"
      ]
     },
     "execution_count": 93,
     "metadata": {},
     "output_type": "execute_result"
    }
   ],
   "source": [
    "lstNodes = dfNodes.hexamer.to_list()\n",
    "lstNodes[:5]"
   ]
  },
  {
   "cell_type": "code",
   "execution_count": 94,
   "metadata": {},
   "outputs": [],
   "source": [
    "def hammingDistance(x, y):\n",
    "    nmm = 0\n",
    "    for i in range(len(x)):\n",
    "        if x[i] != y[i]:\n",
    "            nmm += 1\n",
    "    return nmm"
   ]
  },
  {
   "cell_type": "code",
   "execution_count": 95,
   "metadata": {},
   "outputs": [],
   "source": [
    "lstEdges = []\n",
    "for x, y in combinations(lstNodes, 2):\n",
    "    if hammingDistance(x, y) == 1:\n",
    "        lstEdges.append((x, y))"
   ]
  },
  {
   "cell_type": "code",
   "execution_count": 96,
   "metadata": {},
   "outputs": [
    {
     "data": {
      "text/plain": [
       "31"
      ]
     },
     "execution_count": 96,
     "metadata": {},
     "output_type": "execute_result"
    }
   ],
   "source": [
    "len(lstEdges)"
   ]
  },
  {
   "cell_type": "code",
   "execution_count": 97,
   "metadata": {},
   "outputs": [
    {
     "data": {
      "text/plain": [
       "[('AAGGAG', 'AAGAAG'),\n",
       " ('AAGGAG', 'GAGGAG'),\n",
       " ('AAGGAG', 'AAGGTG'),\n",
       " ('AAGAAG', 'AAGAGG'),\n",
       " ('AAGAAG', 'GAGAAG')]"
      ]
     },
     "execution_count": 97,
     "metadata": {},
     "output_type": "execute_result"
    }
   ],
   "source": [
    "lstEdges[:5]"
   ]
  },
  {
   "cell_type": "code",
   "execution_count": 121,
   "metadata": {},
   "outputs": [
    {
     "data": {
      "text/plain": [
       "('AAGGAG', 591)"
      ]
     },
     "execution_count": 121,
     "metadata": {},
     "output_type": "execute_result"
    }
   ],
   "source": [
    "dctNumbers = dfNodes.set_index('hexamer')['counts'].to_dict()\n",
    "list(dctNumbers.items())[0]"
   ]
  },
  {
   "cell_type": "code",
   "execution_count": 122,
   "metadata": {},
   "outputs": [
    {
     "data": {
      "text/plain": [
       "[591,\n",
       " 426,\n",
       " 368,\n",
       " 363,\n",
       " 354,\n",
       " 291,\n",
       " 217,\n",
       " 211,\n",
       " 211,\n",
       " 210,\n",
       " 194,\n",
       " 191,\n",
       " 188,\n",
       " 178,\n",
       " 176,\n",
       " 172,\n",
       " 168,\n",
       " 167,\n",
       " 167,\n",
       " 162]"
      ]
     },
     "execution_count": 122,
     "metadata": {},
     "output_type": "execute_result"
    }
   ],
   "source": [
    "lstColors = [dctNumbers[node] for node in G.nodes()]\n",
    "lstColors"
   ]
  },
  {
   "cell_type": "code",
   "execution_count": 98,
   "metadata": {},
   "outputs": [],
   "source": [
    "G = nx.Graph()\n",
    "G.add_nodes_from(lstNodes)\n",
    "G.add_edges_from(lstEdges)"
   ]
  },
  {
   "cell_type": "code",
   "execution_count": 99,
   "metadata": {},
   "outputs": [
    {
     "data": {
      "text/plain": [
       "<networkx.classes.graph.Graph at 0x7fe0ce5f0e48>"
      ]
     },
     "execution_count": 99,
     "metadata": {},
     "output_type": "execute_result"
    }
   ],
   "source": [
    "G"
   ]
  },
  {
   "cell_type": "code",
   "execution_count": 146,
   "metadata": {},
   "outputs": [
    {
     "data": {
      "image/png": "[encoded data removed]",
      "text/plain": [
       "<Figure size 864x720 with 2 Axes>"
      ]
     },
     "metadata": {},
     "output_type": "display_data"
    }
   ],
   "source": [
    "fig, ax = plt.subplots(nrows=1, ncols=1, figsize=(12, 10))\n",
    "nx.draw(G, with_labels=True, ax=ax, node_color=lstColors, node_size=np.array(lstColors) * 10, cmap='Blues', edgecolors='k')\n",
    "sm = plt.cm.ScalarMappable(norm=plt.Normalize(vmax=max(lstColors), vmin=min(lstColors)), cmap='Blues')\n",
    "sm._A = []\n",
    "plt.colorbar(sm)\n",
    "plt.savefig('network-lin28a-2206092156.pdf', format='pdf', bbox_inches='tight')"
   ]
  },
  {
   "cell_type": "markdown",
   "metadata": {},
   "source": [
    "## 4. Predict"
   ]
  },
  {
   "cell_type": "markdown",
   "metadata": {},
   "source": [
    "+ (Primary) Transcriptome (fasta) was downloaded from GENCODE"
   ]
  },
  {
   "cell_type": "code",
   "execution_count": 231,
   "metadata": {},
   "outputs": [
    {
     "data": {
      "text/plain": [
       "2.9555795807088465"
      ]
     },
     "execution_count": 231,
     "metadata": {},
     "output_type": "execute_result"
    }
   ],
   "source": [
    "fHexamerScore = 0.0\n",
    "for j, base in enumerate('AAGGAG'):\n",
    "    i = dctEncoding[base]\n",
    "    fHexamerScore += arrPpm[i, j]\n",
    "fHexamerScore"
   ]
  },
  {
   "cell_type": "code",
   "execution_count": 221,
   "metadata": {},
   "outputs": [
    {
     "name": "stdout",
     "output_type": "stream",
     "text": [
      "0\n",
      "2000\n",
      "4000\n",
      "6000\n",
      "8000\n",
      "10000\n",
      "12000\n",
      "14000\n",
      "16000\n",
      "18000\n",
      "20000\n",
      "22000\n",
      "24000\n",
      "26000\n",
      "28000\n",
      "30000\n",
      "32000\n",
      "34000\n",
      "36000\n",
      "38000\n",
      "40000\n",
      "42000\n",
      "44000\n",
      "46000\n",
      "48000\n",
      "50000\n",
      "52000\n",
      "54000\n",
      "56000\n",
      "58000\n",
      "60000\n",
      "62000\n",
      "64000\n",
      "66000\n",
      "68000\n",
      "70000\n",
      "72000\n",
      "74000\n",
      "76000\n",
      "78000\n",
      "80000\n",
      "82000\n",
      "84000\n",
      "86000\n",
      "88000\n",
      "90000\n",
      "92000\n",
      "94000\n",
      "96000\n",
      "98000\n",
      "100000\n",
      "102000\n",
      "104000\n",
      "106000\n",
      "108000\n",
      "110000\n",
      "112000\n",
      "114000\n",
      "116000\n",
      "118000\n",
      "120000\n",
      "122000\n",
      "124000\n",
      "126000\n",
      "128000\n",
      "130000\n",
      "132000\n",
      "134000\n",
      "136000\n",
      "138000\n",
      "140000\n",
      "142000\n"
     ]
    }
   ],
   "source": [
    "dctGeneScores = {}\n",
    "iterFa = SeqIO.parse('../data/fa/gencode.vM28.transcripts.fa', format='fasta')\n",
    "for c, seq in enumerate(iterFa):\n",
    "    sGeneId = seq.name.split('|')[1]\n",
    "    sSeq = str(seq.seq).upper()\n",
    "    fGeneScore = 0.0\n",
    "    for pos in range(len(sSeq) - 6 + 1):\n",
    "        fHexamerScore = 0.0\n",
    "        hexamer = sSeq[pos:pos+6]\n",
    "        for j, base in enumerate(hexamer):\n",
    "            i = dctEncoding[base]\n",
    "            fHexamerScore += arrPssm[i, j]\n",
    "        if fHexamerScore > fGeneScore:\n",
    "            fGeneScore = fHexamerScore\n",
    "    if fGeneScore > dctGeneScores.get(sGeneId, 0):\n",
    "        dctGeneScores[sGeneId] = fGeneScore\n",
    "    if c % 2000 == 0:\n",
    "        print(c)"
   ]
  },
  {
   "cell_type": "code",
   "execution_count": 222,
   "metadata": {},
   "outputs": [
    {
     "data": {
      "text/plain": [
       "55357"
      ]
     },
     "execution_count": 222,
     "metadata": {},
     "output_type": "execute_result"
    }
   ],
   "source": [
    "len(dctGeneScores)"
   ]
  },
  {
   "cell_type": "code",
   "execution_count": 223,
   "metadata": {},
   "outputs": [],
   "source": [
    "for geneId in dctGeneScores:\n",
    "    if not geneId.startswith('ENSMUSG'):\n",
    "        print(geneId, dctGeneScores[geneId])"
   ]
  },
  {
   "cell_type": "code",
   "execution_count": 224,
   "metadata": {},
   "outputs": [
    {
     "data": {
      "text/html": [
       "<div>\n",
       "<style scoped>\n",
       "    .dataframe tbody tr th:only-of-type {\n",
       "        vertical-align: middle;\n",
       "    }\n",
       "\n",
       "    .dataframe tbody tr th {\n",
       "        vertical-align: top;\n",
       "    }\n",
       "\n",
       "    .dataframe thead th {\n",
       "        text-align: right;\n",
       "    }\n",
       "</style>\n",
       "<table border=\"1\" class=\"dataframe\">\n",
       "  <thead>\n",
       "    <tr style=\"text-align: right;\">\n",
       "      <th></th>\n",
       "      <th>level_0</th>\n",
       "      <th>index</th>\n",
       "      <th>score</th>\n",
       "    </tr>\n",
       "  </thead>\n",
       "  <tbody>\n",
       "    <tr>\n",
       "      <th>0</th>\n",
       "      <td>0</td>\n",
       "      <td>ENSMUSG00000094957.2</td>\n",
       "      <td>13.490334</td>\n",
       "    </tr>\n",
       "    <tr>\n",
       "      <th>1</th>\n",
       "      <td>1</td>\n",
       "      <td>ENSMUSG00000096396.2</td>\n",
       "      <td>13.564453</td>\n",
       "    </tr>\n",
       "    <tr>\n",
       "      <th>2</th>\n",
       "      <td>2</td>\n",
       "      <td>ENSMUSG00000096884.2</td>\n",
       "      <td>13.564453</td>\n",
       "    </tr>\n",
       "    <tr>\n",
       "      <th>3</th>\n",
       "      <td>3</td>\n",
       "      <td>ENSMUSG00000093876.2</td>\n",
       "      <td>13.564453</td>\n",
       "    </tr>\n",
       "    <tr>\n",
       "      <th>4</th>\n",
       "      <td>4</td>\n",
       "      <td>ENSMUSG00000078742.2</td>\n",
       "      <td>14.168417</td>\n",
       "    </tr>\n",
       "    <tr>\n",
       "      <th>...</th>\n",
       "      <td>...</td>\n",
       "      <td>...</td>\n",
       "      <td>...</td>\n",
       "    </tr>\n",
       "    <tr>\n",
       "      <th>55352</th>\n",
       "      <td>55352</td>\n",
       "      <td>ENSMUSG00000107865.2</td>\n",
       "      <td>15.669193</td>\n",
       "    </tr>\n",
       "    <tr>\n",
       "      <th>55353</th>\n",
       "      <td>55353</td>\n",
       "      <td>ENSMUSG00000069805.11</td>\n",
       "      <td>15.669193</td>\n",
       "    </tr>\n",
       "    <tr>\n",
       "      <th>55354</th>\n",
       "      <td>55354</td>\n",
       "      <td>ENSMUSG00000021456.9</td>\n",
       "      <td>15.669193</td>\n",
       "    </tr>\n",
       "    <tr>\n",
       "      <th>55355</th>\n",
       "      <td>55355</td>\n",
       "      <td>ENSMUSG00000035367.10</td>\n",
       "      <td>15.669193</td>\n",
       "    </tr>\n",
       "    <tr>\n",
       "      <th>55356</th>\n",
       "      <td>55356</td>\n",
       "      <td>ENSMUSG00000032028.16</td>\n",
       "      <td>15.669193</td>\n",
       "    </tr>\n",
       "  </tbody>\n",
       "</table>\n",
       "<p>55357 rows × 3 columns</p>\n",
       "</div>"
      ],
      "text/plain": [
       "       level_0                  index      score\n",
       "0            0   ENSMUSG00000094957.2  13.490334\n",
       "1            1   ENSMUSG00000096396.2  13.564453\n",
       "2            2   ENSMUSG00000096884.2  13.564453\n",
       "3            3   ENSMUSG00000093876.2  13.564453\n",
       "4            4   ENSMUSG00000078742.2  14.168417\n",
       "...        ...                    ...        ...\n",
       "55352    55352   ENSMUSG00000107865.2  15.669193\n",
       "55353    55353  ENSMUSG00000069805.11  15.669193\n",
       "55354    55354   ENSMUSG00000021456.9  15.669193\n",
       "55355    55355  ENSMUSG00000035367.10  15.669193\n",
       "55356    55356  ENSMUSG00000032028.16  15.669193\n",
       "\n",
       "[55357 rows x 3 columns]"
      ]
     },
     "execution_count": 224,
     "metadata": {},
     "output_type": "execute_result"
    }
   ],
   "source": [
    "dfGeneScores = pd.Series(dctGeneScores).to_frame('score')\n",
    "dfGeneScores = dfGeneScores.sort_values('score').reset_index(drop=False)\n",
    "dfGeneScores.reset_index(drop=False, inplace=True)\n",
    "dfGeneScores"
   ]
  },
  {
   "cell_type": "markdown",
   "metadata": {},
   "source": [
    "## 5. Threshold?"
   ]
  },
  {
   "cell_type": "code",
   "execution_count": 238,
   "metadata": {},
   "outputs": [],
   "source": [
    "def query_score(sHexamer):\n",
    "    fHexamerScore = 0.0\n",
    "    for j, base in enumerate(sHexamer):\n",
    "        i = dctEncoding[base]\n",
    "        fHexamerScore += arrPssm[i, j]\n",
    "    return fHexamerScore"
   ]
  },
  {
   "cell_type": "code",
   "execution_count": 239,
   "metadata": {},
   "outputs": [
    {
     "data": {
      "text/html": [
       "<div>\n",
       "<style scoped>\n",
       "    .dataframe tbody tr th:only-of-type {\n",
       "        vertical-align: middle;\n",
       "    }\n",
       "\n",
       "    .dataframe tbody tr th {\n",
       "        vertical-align: top;\n",
       "    }\n",
       "\n",
       "    .dataframe thead th {\n",
       "        text-align: right;\n",
       "    }\n",
       "</style>\n",
       "<table border=\"1\" class=\"dataframe\">\n",
       "  <thead>\n",
       "    <tr style=\"text-align: right;\">\n",
       "      <th></th>\n",
       "      <th>hexamer</th>\n",
       "      <th>counts</th>\n",
       "      <th>0</th>\n",
       "      <th>1</th>\n",
       "      <th>2</th>\n",
       "      <th>3</th>\n",
       "      <th>4</th>\n",
       "      <th>5</th>\n",
       "      <th>score</th>\n",
       "    </tr>\n",
       "  </thead>\n",
       "  <tbody>\n",
       "    <tr>\n",
       "      <th>0</th>\n",
       "      <td>AAGGAG</td>\n",
       "      <td>591</td>\n",
       "      <td>0</td>\n",
       "      <td>0</td>\n",
       "      <td>2</td>\n",
       "      <td>2</td>\n",
       "      <td>0</td>\n",
       "      <td>2</td>\n",
       "      <td>15.244108</td>\n",
       "    </tr>\n",
       "    <tr>\n",
       "      <th>1</th>\n",
       "      <td>AAGAAG</td>\n",
       "      <td>426</td>\n",
       "      <td>0</td>\n",
       "      <td>0</td>\n",
       "      <td>2</td>\n",
       "      <td>0</td>\n",
       "      <td>0</td>\n",
       "      <td>2</td>\n",
       "      <td>15.216741</td>\n",
       "    </tr>\n",
       "    <tr>\n",
       "      <th>2</th>\n",
       "      <td>AAGAGA</td>\n",
       "      <td>368</td>\n",
       "      <td>0</td>\n",
       "      <td>0</td>\n",
       "      <td>2</td>\n",
       "      <td>0</td>\n",
       "      <td>2</td>\n",
       "      <td>0</td>\n",
       "      <td>15.274121</td>\n",
       "    </tr>\n",
       "    <tr>\n",
       "      <th>3</th>\n",
       "      <td>AAGAGG</td>\n",
       "      <td>363</td>\n",
       "      <td>0</td>\n",
       "      <td>0</td>\n",
       "      <td>2</td>\n",
       "      <td>0</td>\n",
       "      <td>2</td>\n",
       "      <td>2</td>\n",
       "      <td>15.641827</td>\n",
       "    </tr>\n",
       "    <tr>\n",
       "      <th>4</th>\n",
       "      <td>GAGGAG</td>\n",
       "      <td>354</td>\n",
       "      <td>2</td>\n",
       "      <td>0</td>\n",
       "      <td>2</td>\n",
       "      <td>2</td>\n",
       "      <td>0</td>\n",
       "      <td>2</td>\n",
       "      <td>15.100863</td>\n",
       "    </tr>\n",
       "    <tr>\n",
       "      <th>...</th>\n",
       "      <td>...</td>\n",
       "      <td>...</td>\n",
       "      <td>...</td>\n",
       "      <td>...</td>\n",
       "      <td>...</td>\n",
       "      <td>...</td>\n",
       "      <td>...</td>\n",
       "      <td>...</td>\n",
       "      <td>...</td>\n",
       "    </tr>\n",
       "    <tr>\n",
       "      <th>404</th>\n",
       "      <td>TTGCGC</td>\n",
       "      <td>10</td>\n",
       "      <td>3</td>\n",
       "      <td>3</td>\n",
       "      <td>2</td>\n",
       "      <td>1</td>\n",
       "      <td>2</td>\n",
       "      <td>1</td>\n",
       "      <td>14.656242</td>\n",
       "    </tr>\n",
       "    <tr>\n",
       "      <th>405</th>\n",
       "      <td>CGGGGG</td>\n",
       "      <td>10</td>\n",
       "      <td>1</td>\n",
       "      <td>2</td>\n",
       "      <td>2</td>\n",
       "      <td>2</td>\n",
       "      <td>2</td>\n",
       "      <td>2</td>\n",
       "      <td>15.355261</td>\n",
       "    </tr>\n",
       "    <tr>\n",
       "      <th>406</th>\n",
       "      <td>GGGGAT</td>\n",
       "      <td>10</td>\n",
       "      <td>2</td>\n",
       "      <td>2</td>\n",
       "      <td>2</td>\n",
       "      <td>2</td>\n",
       "      <td>0</td>\n",
       "      <td>3</td>\n",
       "      <td>14.519324</td>\n",
       "    </tr>\n",
       "    <tr>\n",
       "      <th>407</th>\n",
       "      <td>GGGGAA</td>\n",
       "      <td>10</td>\n",
       "      <td>2</td>\n",
       "      <td>2</td>\n",
       "      <td>2</td>\n",
       "      <td>2</td>\n",
       "      <td>0</td>\n",
       "      <td>0</td>\n",
       "      <td>14.572690</td>\n",
       "    </tr>\n",
       "    <tr>\n",
       "      <th>408</th>\n",
       "      <td>GAGGTC</td>\n",
       "      <td>10</td>\n",
       "      <td>2</td>\n",
       "      <td>0</td>\n",
       "      <td>2</td>\n",
       "      <td>2</td>\n",
       "      <td>3</td>\n",
       "      <td>1</td>\n",
       "      <td>14.589344</td>\n",
       "    </tr>\n",
       "  </tbody>\n",
       "</table>\n",
       "<p>409 rows × 9 columns</p>\n",
       "</div>"
      ],
      "text/plain": [
       "    hexamer  counts  0  1  2  3  4  5      score\n",
       "0    AAGGAG     591  0  0  2  2  0  2  15.244108\n",
       "1    AAGAAG     426  0  0  2  0  0  2  15.216741\n",
       "2    AAGAGA     368  0  0  2  0  2  0  15.274121\n",
       "3    AAGAGG     363  0  0  2  0  2  2  15.641827\n",
       "4    GAGGAG     354  2  0  2  2  0  2  15.100863\n",
       "..      ...     ... .. .. .. .. .. ..        ...\n",
       "404  TTGCGC      10  3  3  2  1  2  1  14.656242\n",
       "405  CGGGGG      10  1  2  2  2  2  2  15.355261\n",
       "406  GGGGAT      10  2  2  2  2  0  3  14.519324\n",
       "407  GGGGAA      10  2  2  2  2  0  0  14.572690\n",
       "408  GAGGTC      10  2  0  2  2  3  1  14.589344\n",
       "\n",
       "[409 rows x 9 columns]"
      ]
     },
     "execution_count": 239,
     "metadata": {},
     "output_type": "execute_result"
    }
   ],
   "source": [
    "dfHexamers['score'] = dfHexamers['hexamer'].apply(query_score)\n",
    "dfHexamers"
   ]
  },
  {
   "cell_type": "code",
   "execution_count": 240,
   "metadata": {},
   "outputs": [
    {
     "data": {
      "text/plain": [
       "<matplotlib.axes._subplots.AxesSubplot at 0x7fdfef0d8eb8>"
      ]
     },
     "execution_count": 240,
     "metadata": {},
     "output_type": "execute_result"
    },
    {
     "data": {
      "image/png": "[encoded data removed]",
      "text/plain": [
       "<Figure size 432x288 with 1 Axes>"
      ]
     },
     "metadata": {
      "needs_background": "light"
     },
     "output_type": "display_data"
    }
   ],
   "source": [
    "dfHexamers.score.hist()"
   ]
  },
  {
   "cell_type": "code",
   "execution_count": 254,
   "metadata": {},
   "outputs": [
    {
     "data": {
      "text/plain": [
       "[['A', 'C', 'G', 'T'],\n",
       " ['A', 'C', 'G', 'T'],\n",
       " ['A', 'C', 'G', 'T'],\n",
       " ['A', 'C', 'G', 'T'],\n",
       " ['A', 'C', 'G', 'T'],\n",
       " ['A', 'C', 'G', 'T']]"
      ]
     },
     "execution_count": 254,
     "metadata": {},
     "output_type": "execute_result"
    }
   ],
   "source": [
    "lst6 = [['A', 'C', 'G', 'T'],] * 6\n",
    "lst6"
   ]
  },
  {
   "cell_type": "code",
   "execution_count": 269,
   "metadata": {
    "scrolled": true
   },
   "outputs": [
    {
     "data": {
      "text/plain": [
       "['CACGCG', 'GCCCTG', 'AATTCG', 'CGGCCG', 'CTGTTC']"
      ]
     },
     "execution_count": 269,
     "metadata": {},
     "output_type": "execute_result"
    }
   ],
   "source": [
    "stNotInSeq = set([''.join(i) for i in product(*lst6)]) - set(dfHexamers.hexamer.to_list())\n",
    "lstNotInSeq = list(stNotInSeq)\n",
    "np.random.shuffle(lstNotInSeq)\n",
    "lstNotInSeq = lstNotInSeq[:409]\n",
    "lstNotInSeq[:5]"
   ]
  },
  {
   "cell_type": "code",
   "execution_count": 281,
   "metadata": {},
   "outputs": [
    {
     "data": {
      "text/plain": [
       "[13.955642207793584,\n",
       " 13.445929874644929,\n",
       " 13.855271110109008,\n",
       " 14.47849901494084,\n",
       " 14.297700745938748]"
      ]
     },
     "execution_count": 281,
     "metadata": {},
     "output_type": "execute_result"
    }
   ],
   "source": [
    "lstNotInSeqScores = pd.Series(lstNotInSeq).apply(query_score).to_list()\n",
    "lstNotInSeqScores[:5]"
   ]
  },
  {
   "cell_type": "code",
   "execution_count": 293,
   "metadata": {
    "scrolled": false
   },
   "outputs": [
    {
     "data": {
      "image/png": "[encoded data removed]",
      "text/plain": [
       "<Figure size 432x288 with 1 Axes>"
      ]
     },
     "metadata": {
      "needs_background": "light"
     },
     "output_type": "display_data"
    }
   ],
   "source": [
    "figH, axH = plt.subplots(nrows=1, ncols=1)\n",
    "axH.hist(lstNotInSeqScores, bins=30, alpha=0.5, label='False')\n",
    "axH.hist(dfHexamers['score'], bins=30, alpha=0.5, label='True')\n",
    "axH.legend()\n",
    "None"
   ]
  },
  {
   "cell_type": "code",
   "execution_count": 306,
   "metadata": {},
   "outputs": [],
   "source": [
    "lstInSeqScores = dfHexamers['score'].to_list()"
   ]
  },
  {
   "cell_type": "code",
   "execution_count": 311,
   "metadata": {},
   "outputs": [],
   "source": [
    "ffp = 0\n",
    "cutoff = 0\n",
    "for i in sorted(lstNotInSeqScores + lstInSeqScores)[:-2]:\n",
    "    tp = len([x for x in lstInSeqScores if x > i])\n",
    "    fp = len([x for x in lstNotInSeqScores if x > i])\n",
    "    if (fp / (tp + fp)) < 0.05:\n",
    "        ffp = (fp / (tp + fp))\n",
    "        cutoff = i\n",
    "        break"
   ]
  },
  {
   "cell_type": "code",
   "execution_count": 312,
   "metadata": {},
   "outputs": [
    {
     "data": {
      "text/plain": [
       "0.048426150121065374"
      ]
     },
     "execution_count": 312,
     "metadata": {},
     "output_type": "execute_result"
    }
   ],
   "source": [
    "ffp"
   ]
  },
  {
   "cell_type": "code",
   "execution_count": 313,
   "metadata": {},
   "outputs": [
    {
     "data": {
      "text/plain": [
       "14.509104276512788"
      ]
     },
     "execution_count": 313,
     "metadata": {},
     "output_type": "execute_result"
    }
   ],
   "source": [
    "cutoff"
   ]
  },
  {
   "cell_type": "code",
   "execution_count": 314,
   "metadata": {},
   "outputs": [],
   "source": [
    "SCORE_THRESHOLD = cutoff"
   ]
  },
  {
   "cell_type": "code",
   "execution_count": 315,
   "metadata": {},
   "outputs": [
    {
     "data": {
      "image/png": "[encoded data removed]",
      "text/plain": [
       "<Figure size 432x288 with 1 Axes>"
      ]
     },
     "metadata": {
      "needs_background": "light"
     },
     "output_type": "display_data"
    }
   ],
   "source": [
    "figH, axH = plt.subplots(nrows=1, ncols=1)\n",
    "axH.hist(lstNotInSeqScores, bins=30, alpha=0.5, label='False')\n",
    "axH.hist(dfHexamers['score'], bins=30, alpha=0.5, label='True')\n",
    "axH.legend()\n",
    "\n",
    "axH.axvline(SCORE_THRESHOLD, c='r')\n",
    "None"
   ]
  },
  {
   "cell_type": "code",
   "execution_count": 317,
   "metadata": {},
   "outputs": [
    {
     "data": {
      "text/plain": [
       "Text(0, 0.5, 'Best score\\n(sum of log2 odds ratio)')"
      ]
     },
     "execution_count": 317,
     "metadata": {},
     "output_type": "execute_result"
    },
    {
     "data": {
      "image/png": "[encoded data removed]",
      "text/plain": [
       "<Figure size 216x216 with 1 Axes>"
      ]
     },
     "metadata": {
      "needs_background": "light"
     },
     "output_type": "display_data"
    }
   ],
   "source": [
    "figP, axP = plt.subplots(nrows=1, ncols=1, figsize=(3, 3))\n",
    "axP.scatter('level_0', 'score', data=dfGeneScores, c='k')\n",
    "axP.axhline(SCORE_THRESHOLD, c='r')\n",
    "#axP.set_ylim(-0.002, 0.027)\n",
    "axP.set_xlabel('Rank', fontsize=12)\n",
    "axP.set_ylabel('Best score\\n(sum of log2 odds ratio)', fontsize=12)"
   ]
  },
  {
   "cell_type": "code",
   "execution_count": null,
   "metadata": {},
   "outputs": [],
   "source": []
  }
 ],
 "metadata": {
  "kernelspec": {
   "display_name": "Python 3",
   "language": "python",
   "name": "python3"
  },
  "language_info": {
   "codemirror_mode": {
    "name": "ipython",
    "version": 3
   },
   "file_extension": ".py",
   "mimetype": "text/x-python",
   "name": "python",
   "nbconvert_exporter": "python",
   "pygments_lexer": "ipython3",
   "version": "3.6.7"
  }
 },
 "nbformat": 4,
 "nbformat_minor": 2
}
